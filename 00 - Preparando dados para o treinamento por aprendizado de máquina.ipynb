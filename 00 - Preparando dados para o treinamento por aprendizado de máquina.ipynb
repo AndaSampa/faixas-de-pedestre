{
 "cells": [
  {
   "cell_type": "markdown",
   "metadata": {},
   "source": [
    "# Preparando as lições para o treinamento por aprendizado de máquina\n",
    "\n",
    "Nesse notebook, a partir de parametros estabelecidos, as lições serão preparadas para então ser realizado o treinamento, para então serem realizadas as validações e inferências do modelo para detecção de faixas de pedestre."
   ]
  },
  {
   "cell_type": "code",
   "execution_count": null,
   "metadata": {},
   "outputs": [],
   "source": [
    "tamanho_janela = 24 # tamanho em pixels\n",
    "sobreposicao_de_janelas = 16 # sobreposição das janelas em pixels"
   ]
  },
  {
   "cell_type": "markdown",
   "metadata": {},
   "source": [
    "## Selecionando as quadrículas SCM das licoes"
   ]
  },
  {
   "cell_type": "code",
   "execution_count": 7,
   "metadata": {},
   "outputs": [],
   "source": [
    "import geopandas as gpd\n",
    "import pandas as pd"
   ]
  },
  {
   "cell_type": "code",
   "execution_count": 4,
   "metadata": {},
   "outputs": [],
   "source": [
    "gdf_scm = gpd.read_file('zip://downloads/SIRGAS_SHP_quadriculaortofoto2017.zip!/SIRGAS_SHP_quadriculaortofoto2017/SIRGAS_SHP_quadriculaortofoto2017.shp')"
   ]
  },
  {
   "cell_type": "code",
   "execution_count": 28,
   "metadata": {},
   "outputs": [],
   "source": [
    "scm_licoes = pd.read_csv('downloads/imagens/SCMs-licoes.csv')"
   ]
  },
  {
   "cell_type": "code",
   "execution_count": 41,
   "metadata": {},
   "outputs": [],
   "source": [
    "# scm_licoes.loc[scm_licoes[\"presente\"] == 1]\n",
    "licoes_utilizadas = scm_licoes.loc[scm_licoes[\"presente\"] == 1, 'scm']"
   ]
  },
  {
   "cell_type": "code",
   "execution_count": 49,
   "metadata": {},
   "outputs": [
    {
     "data": {
      "text/html": [
       "<div>\n",
       "<style scoped>\n",
       "    .dataframe tbody tr th:only-of-type {\n",
       "        vertical-align: middle;\n",
       "    }\n",
       "\n",
       "    .dataframe tbody tr th {\n",
       "        vertical-align: top;\n",
       "    }\n",
       "\n",
       "    .dataframe thead th {\n",
       "        text-align: right;\n",
       "    }\n",
       "</style>\n",
       "<table border=\"1\" class=\"dataframe\">\n",
       "  <thead>\n",
       "    <tr style=\"text-align: right;\">\n",
       "      <th></th>\n",
       "      <th>qo2010_cod</th>\n",
       "      <th>geometry</th>\n",
       "    </tr>\n",
       "  </thead>\n",
       "  <tbody>\n",
       "    <tr>\n",
       "      <th>2479</th>\n",
       "      <td>3314-311</td>\n",
       "      <td>POLYGON ((327777.044 7392618.571, 327770.250 7...</td>\n",
       "    </tr>\n",
       "    <tr>\n",
       "      <th>2480</th>\n",
       "      <td>3313-432</td>\n",
       "      <td>POLYGON ((327245.386 7392612.299, 327238.571 7...</td>\n",
       "    </tr>\n",
       "    <tr>\n",
       "      <th>2484</th>\n",
       "      <td>3313-412</td>\n",
       "      <td>POLYGON ((325118.743 7392587.016, 325111.845 7...</td>\n",
       "    </tr>\n",
       "    <tr>\n",
       "      <th>2561</th>\n",
       "      <td>3313-414</td>\n",
       "      <td>POLYGON ((325125.643 7392010.236, 325118.743 7...</td>\n",
       "    </tr>\n",
       "    <tr>\n",
       "      <th>2793</th>\n",
       "      <td>3316-221</td>\n",
       "      <td>POLYGON ((332056.790 7390360.987, 332050.159 7...</td>\n",
       "    </tr>\n",
       "    <tr>\n",
       "      <th>2807</th>\n",
       "      <td>3315-211</td>\n",
       "      <td>POLYGON ((324614.772 7390273.522, 324607.847 7...</td>\n",
       "    </tr>\n",
       "    <tr>\n",
       "      <th>2808</th>\n",
       "      <td>3315-132</td>\n",
       "      <td>POLYGON ((324083.192 7390267.129, 324076.246 7...</td>\n",
       "    </tr>\n",
       "    <tr>\n",
       "      <th>3035</th>\n",
       "      <td>3325-164</td>\n",
       "      <td>POLYGON ((336860.179 7388684.936, 336853.733 7...</td>\n",
       "    </tr>\n",
       "    <tr>\n",
       "      <th>3117</th>\n",
       "      <td>3325-332</td>\n",
       "      <td>POLYGON ((336866.626 7388108.176, 336860.179 7...</td>\n",
       "    </tr>\n",
       "    <tr>\n",
       "      <th>3179</th>\n",
       "      <td>3326-424</td>\n",
       "      <td>POLYGON ((345376.197 7387624.020, 345370.085 7...</td>\n",
       "    </tr>\n",
       "    <tr>\n",
       "      <th>3194</th>\n",
       "      <td>3325-334</td>\n",
       "      <td>POLYGON ((336873.075 7387531.417, 336866.626 7...</td>\n",
       "    </tr>\n",
       "    <tr>\n",
       "      <th>3252</th>\n",
       "      <td>3326-461</td>\n",
       "      <td>POLYGON ((345913.727 7387052.900, 345907.635 7...</td>\n",
       "    </tr>\n",
       "  </tbody>\n",
       "</table>\n",
       "</div>"
      ],
      "text/plain": [
       "     qo2010_cod                                           geometry\n",
       "2479   3314-311  POLYGON ((327777.044 7392618.571, 327770.250 7...\n",
       "2480   3313-432  POLYGON ((327245.386 7392612.299, 327238.571 7...\n",
       "2484   3313-412  POLYGON ((325118.743 7392587.016, 325111.845 7...\n",
       "2561   3313-414  POLYGON ((325125.643 7392010.236, 325118.743 7...\n",
       "2793   3316-221  POLYGON ((332056.790 7390360.987, 332050.159 7...\n",
       "2807   3315-211  POLYGON ((324614.772 7390273.522, 324607.847 7...\n",
       "2808   3315-132  POLYGON ((324083.192 7390267.129, 324076.246 7...\n",
       "3035   3325-164  POLYGON ((336860.179 7388684.936, 336853.733 7...\n",
       "3117   3325-332  POLYGON ((336866.626 7388108.176, 336860.179 7...\n",
       "3179   3326-424  POLYGON ((345376.197 7387624.020, 345370.085 7...\n",
       "3194   3325-334  POLYGON ((336873.075 7387531.417, 336866.626 7...\n",
       "3252   3326-461  POLYGON ((345913.727 7387052.900, 345907.635 7..."
      ]
     },
     "execution_count": 49,
     "metadata": {},
     "output_type": "execute_result"
    }
   ],
   "source": [
    "gdf_scm[gdf_scm['qo2010_cod'].isin(licoes_utilizadas)]"
   ]
  },
  {
   "cell_type": "markdown",
   "metadata": {},
   "source": [
    "## Gerando as Labels de faixas de pedestre"
   ]
  },
  {
   "cell_type": "markdown",
   "metadata": {},
   "source": [
    "## Gerando mascaras de quadras e copas de árvores\n",
    "\n",
    "Considera lição se a condiçao for:\n",
    "\n",
    "* mais de 75% dos pixels dentro da lição\n",
    "* mais de 25% dos pixels estiver fora da quadra viária\n",
    "* 100% dos pixels dentro do SCM"
   ]
  },
  {
   "cell_type": "markdown",
   "metadata": {},
   "source": [
    "## Preparando as imagens\n",
    "\n",
    "### Considerar RGB e NIR\n",
    "\n",
    "* reescalonar\n",
    "\n",
    "### Gerando HOG e Local Binary Pattern (LBPH)\n",
    "\n",
    "### DAta Augmentation das lições das faixas de pedestre\n",
    "\n",
    "* Rotate 0, 90, 180, 270 \n",
    "* Cada rotate Flip H e V\n",
    "* 16 possibilidades de Augmentation"
   ]
  },
  {
   "cell_type": "code",
   "execution_count": null,
   "metadata": {},
   "outputs": [],
   "source": []
  }
 ],
 "metadata": {
  "interpreter": {
   "hash": "9cedc55b3cbf3c6d99ff990673a8ddd4523edd6f7760ad30a6f7807a45845135"
  },
  "kernelspec": {
   "display_name": "Python 3.8.11 64-bit ('geo': conda)",
   "language": "python",
   "name": "python3"
  },
  "language_info": {
   "codemirror_mode": {
    "name": "ipython",
    "version": 3
   },
   "file_extension": ".py",
   "mimetype": "text/x-python",
   "name": "python",
   "nbconvert_exporter": "python",
   "pygments_lexer": "ipython3",
   "version": "3.8.11"
  },
  "orig_nbformat": 4
 },
 "nbformat": 4,
 "nbformat_minor": 2
}
