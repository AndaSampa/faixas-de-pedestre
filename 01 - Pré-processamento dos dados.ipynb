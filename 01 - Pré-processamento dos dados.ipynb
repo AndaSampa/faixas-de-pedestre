{
 "cells": [
  {
   "cell_type": "markdown",
   "metadata": {},
   "source": [
    "# Pré-Processamento dos dados"
   ]
  },
  {
   "cell_type": "code",
   "execution_count": 1,
   "metadata": {},
   "outputs": [],
   "source": [
    "import geopandas as gpd\n",
    "import pandas as pd"
   ]
  },
  {
   "cell_type": "code",
   "execution_count": 2,
   "metadata": {},
   "outputs": [],
   "source": [
    "scm_licoes = pd.read_csv('downloads/imagens/SCMs-licoes.csv')"
   ]
  },
  {
   "cell_type": "code",
   "execution_count": 3,
   "metadata": {},
   "outputs": [],
   "source": [
    "licoes_utilizadas = scm_licoes.loc[scm_licoes[\"presente\"] == 1, 'scm']"
   ]
  },
  {
   "cell_type": "code",
   "execution_count": 4,
   "metadata": {},
   "outputs": [],
   "source": [
    "licoes = gpd.read_file('licoes/licoes-por-scm.gpkg')"
   ]
  },
  {
   "cell_type": "code",
   "execution_count": 5,
   "metadata": {},
   "outputs": [],
   "source": [
    "licoes = licoes[licoes.scm.isin(licoes_utilizadas)]"
   ]
  },
  {
   "cell_type": "code",
   "execution_count": 6,
   "metadata": {},
   "outputs": [],
   "source": [
    "gdf_quadras = gpd.read_file('zip://downloads/SIRGAS_SHP_quadraMDSF.zip!/SIRGAS_SHP_quadraMDSF/SIRGAS_SHP_quadraMDSF.shp')"
   ]
  },
  {
   "cell_type": "code",
   "execution_count": 7,
   "metadata": {},
   "outputs": [],
   "source": [
    "import rasterio\n",
    "import numpy as np\n",
    "from rasterio import features\n",
    "from matplotlib import pyplot\n",
    "from shapely.geometry import box\n",
    "# from skimage.feature import hog\n",
    "from skimage import filters\n",
    "from skimage.feature import local_binary_pattern\n",
    "from sklearn.preprocessing import StandardScaler, MinMaxScaler\n",
    "import joblib\n",
    "# from rasterio.plot import show"
   ]
  },
  {
   "cell_type": "code",
   "execution_count": 8,
   "metadata": {},
   "outputs": [],
   "source": [
    "import glob\n",
    "import re"
   ]
  },
  {
   "cell_type": "markdown",
   "metadata": {},
   "source": [
    "## Re-Escalando e Normalizando os dados"
   ]
  },
  {
   "cell_type": "code",
   "execution_count": 9,
   "metadata": {},
   "outputs": [],
   "source": [
    "radius = 3\n",
    "n_points = 8 * radius\n",
    "tamanho_janela = 24 # tamanho em pixels\n",
    "sobreposicao_de_janelas = 12 # sobreposição das janelas em pixels"
   ]
  },
  {
   "cell_type": "code",
   "execution_count": 10,
   "metadata": {},
   "outputs": [
    {
     "name": "stdout",
     "output_type": "stream",
     "text": [
      "Processando SCM: 3325-334\n",
      "Processando SCM: 3313-412\n",
      "Processando SCM: 3315-211\n",
      "Processando SCM: 3325-332\n",
      "Processando SCM: 3313-414\n",
      "Processando SCM: 3325-164\n",
      "Processando SCM: 3313-432\n",
      "Processando SCM: 3326-424\n",
      "Processando SCM: 3316-221\n",
      "Processando SCM: 3314-311\n",
      "Processando SCM: 3326-461\n",
      "Processando SCM: 3315-132\n"
     ]
    }
   ],
   "source": [
    "scms, shapes, transforms, grayscales, sobels, lbps = [], [], [], [], [], []\n",
    "\n",
    "for f in glob.glob(\"downloads/imagens/*_RGB*.jp2\"):\n",
    "\n",
    "    scm = re.search('_(.*)_RGB', f).group(1)\n",
    "    scms.append(scm)\n",
    "    \n",
    "    print(f'Processando SCM: {scm}')\n",
    "    \n",
    "    dataset = rasterio.open(f)\n",
    "    transforms.append(dataset.transform)\n",
    "    shapes.append(dataset.shape) \n",
    "    \n",
    "    grayscale = 0.2125 * dataset.read(1) + \\\n",
    "            0.7154 * dataset.read(2) + \\\n",
    "            0.0721 * dataset.read(3)\n",
    "    grayscale = grayscale.astype('uint8')\n",
    "    grayscales.append(grayscale)\n",
    "\n",
    "#     break\n"
   ]
  },
  {
   "cell_type": "code",
   "execution_count": 11,
   "metadata": {},
   "outputs": [
    {
     "data": {
      "text/plain": [
       "StandardScaler()"
      ]
     },
     "execution_count": 11,
     "metadata": {},
     "output_type": "execute_result"
    }
   ],
   "source": [
    "scaler = StandardScaler()\n",
    "scaler.fit(np.concatenate([x.reshape(-1) for x in grayscales]).reshape(-1, 1))"
   ]
  },
  {
   "cell_type": "code",
   "execution_count": 12,
   "metadata": {},
   "outputs": [
    {
     "data": {
      "text/plain": [
       "['pre-process/grayscale.scaler.save']"
      ]
     },
     "execution_count": 12,
     "metadata": {},
     "output_type": "execute_result"
    }
   ],
   "source": [
    "joblib.dump(scaler, 'pre-process/grayscale.scaler.save') "
   ]
  },
  {
   "cell_type": "code",
   "execution_count": 13,
   "metadata": {},
   "outputs": [
    {
     "name": "stdout",
     "output_type": "stream",
     "text": [
      "0 3325-334\n",
      "1 3313-412\n",
      "2 3315-211\n",
      "3 3325-332\n",
      "4 3313-414\n",
      "5 3325-164\n",
      "6 3313-432\n",
      "7 3326-424\n",
      "8 3316-221\n",
      "9 3314-311\n",
      "10 3326-461\n",
      "11 3315-132\n"
     ]
    }
   ],
   "source": [
    "for k, s in enumerate(scms):\n",
    "    grayscale = scaler.transform(grayscales[k].reshape(-1, 1)).reshape(grayscales[k].shape)\n",
    "    with rasterio.open(\n",
    "        f'pre-process/grayscales/gray-scale-{s}.jp2', 'w',\n",
    "        driver='GTiff',\n",
    "        dtype=rasterio.float64,\n",
    "        count=1,\n",
    "        width=shapes[k][1],\n",
    "        height=shapes[k][0],\n",
    "        transform=transforms[k],\n",
    "        crs = rasterio.crs.CRS.from_string('EPSG:31983')) as dst:\n",
    "        dst.write(grayscale, indexes=1)\n",
    "    print(k, s)\n",
    "    # break"
   ]
  },
  {
   "cell_type": "code",
   "execution_count": 14,
   "metadata": {},
   "outputs": [
    {
     "name": "stdout",
     "output_type": "stream",
     "text": [
      "Processando SCM: 3325-334\n",
      "Processando SCM: 3313-412\n",
      "Processando SCM: 3315-211\n",
      "Processando SCM: 3325-332\n",
      "Processando SCM: 3313-414\n",
      "Processando SCM: 3325-164\n",
      "Processando SCM: 3313-432\n",
      "Processando SCM: 3326-424\n",
      "Processando SCM: 3316-221\n",
      "Processando SCM: 3314-311\n",
      "Processando SCM: 3326-461\n",
      "Processando SCM: 3315-132\n"
     ]
    }
   ],
   "source": [
    "for k, s in enumerate(scms):\n",
    "   \n",
    "    print(f'Processando SCM: {s}')\n",
    "\n",
    "    sobel_image = filters.sobel(grayscales[k])\n",
    "    sobels.append(sobel_image)\n",
    "    \n",
    "    lbp = local_binary_pattern(grayscales[k], n_points, radius)\n",
    "    lbps.append(lbp)\n",
    "    \n",
    "    # break"
   ]
  },
  {
   "cell_type": "code",
   "execution_count": 15,
   "metadata": {},
   "outputs": [
    {
     "name": "stdout",
     "output_type": "stream",
     "text": [
      "0 3325-334\n",
      "1 3313-412\n",
      "2 3315-211\n",
      "3 3325-332\n",
      "4 3313-414\n",
      "5 3325-164\n",
      "6 3313-432\n",
      "7 3326-424\n",
      "8 3316-221\n",
      "9 3314-311\n",
      "10 3326-461\n",
      "11 3315-132\n"
     ]
    }
   ],
   "source": [
    "for k, s in enumerate(scms):\n",
    "    # grayscale = scaler.transform(grayscales[k].reshape(-1, 1)).reshape(grayscales[k].shape)\n",
    "    with rasterio.open(\n",
    "        f'pre-process/sobel/sobel-{s}.jp2', 'w',\n",
    "        driver='GTiff',\n",
    "        dtype=rasterio.float64,\n",
    "        count=1,\n",
    "        width=shapes[k][1],\n",
    "        height=shapes[k][0],\n",
    "        transform=transforms[k],\n",
    "        crs = rasterio.crs.CRS.from_string('EPSG:31983')) as dst:\n",
    "        dst.write(sobels[k], indexes=1)\n",
    "    with rasterio.open(\n",
    "        f'pre-process/lbps/lbp-{s}.jp2', 'w',\n",
    "        driver='GTiff',\n",
    "        dtype=rasterio.float64,\n",
    "        count=1,\n",
    "        width=shapes[k][1],\n",
    "        height=shapes[k][0],\n",
    "        transform=transforms[k],\n",
    "        crs = rasterio.crs.CRS.from_string('EPSG:31983')) as dst:\n",
    "        dst.write(lbps[k], indexes=1)\n",
    "    print(k, s)\n",
    "\n",
    "    # break"
   ]
  },
  {
   "cell_type": "code",
   "execution_count": 16,
   "metadata": {},
   "outputs": [],
   "source": [
    "scaler = MinMaxScaler(feature_range=(-1, 1))"
   ]
  },
  {
   "cell_type": "code",
   "execution_count": 17,
   "metadata": {},
   "outputs": [
    {
     "data": {
      "text/plain": [
       "MinMaxScaler(feature_range=(-1, 1))"
      ]
     },
     "execution_count": 17,
     "metadata": {},
     "output_type": "execute_result"
    }
   ],
   "source": [
    "scaler.fit(np.concatenate([x.reshape(-1) for x in sobels]).reshape(-1, 1))"
   ]
  },
  {
   "cell_type": "code",
   "execution_count": 18,
   "metadata": {},
   "outputs": [
    {
     "data": {
      "text/plain": [
       "['pre-process/sobel.scaler.save']"
      ]
     },
     "execution_count": 18,
     "metadata": {},
     "output_type": "execute_result"
    }
   ],
   "source": [
    "joblib.dump(scaler, 'pre-process/sobel.scaler.save') "
   ]
  },
  {
   "cell_type": "code",
   "execution_count": 19,
   "metadata": {},
   "outputs": [
    {
     "name": "stdout",
     "output_type": "stream",
     "text": [
      "3325-334\n",
      "3313-412\n",
      "3315-211\n",
      "3325-332\n",
      "3313-414\n",
      "3325-164\n",
      "3313-432\n",
      "3326-424\n",
      "3316-221\n",
      "3314-311\n",
      "3326-461\n",
      "3315-132\n"
     ]
    }
   ],
   "source": [
    "for k, s in enumerate(scms):\n",
    "    np.save(f'pre-process/sobel/sobel-{s}.npy', scaler.transform(sobels[k].reshape(-1, 1)).reshape(sobels[k].shape))\n",
    "    print(s)\n",
    "    # print(scaler.transform(hogs[k].reshape(-1, 1)).reshape(hogs[k].shape))\n",
    "    # break"
   ]
  },
  {
   "cell_type": "code",
   "execution_count": 20,
   "metadata": {},
   "outputs": [],
   "source": [
    "scaler = MinMaxScaler(feature_range=(-1, 1))"
   ]
  },
  {
   "cell_type": "code",
   "execution_count": 21,
   "metadata": {},
   "outputs": [
    {
     "data": {
      "text/plain": [
       "MinMaxScaler(feature_range=(-1, 1))"
      ]
     },
     "execution_count": 21,
     "metadata": {},
     "output_type": "execute_result"
    }
   ],
   "source": [
    "scaler.fit(np.concatenate([x.reshape(-1) for x in lbps]).reshape(-1, 1))"
   ]
  },
  {
   "cell_type": "code",
   "execution_count": 22,
   "metadata": {},
   "outputs": [
    {
     "data": {
      "text/plain": [
       "['pre-process/lbp.scaler.save']"
      ]
     },
     "execution_count": 22,
     "metadata": {},
     "output_type": "execute_result"
    }
   ],
   "source": [
    "joblib.dump(scaler, 'pre-process/lbp.scaler.save')"
   ]
  },
  {
   "cell_type": "code",
   "execution_count": 23,
   "metadata": {},
   "outputs": [
    {
     "name": "stdout",
     "output_type": "stream",
     "text": [
      "3325-334\n",
      "3313-412\n",
      "3315-211\n",
      "3325-332\n",
      "3313-414\n",
      "3325-164\n",
      "3313-432\n",
      "3326-424\n",
      "3316-221\n",
      "3314-311\n",
      "3326-461\n",
      "3315-132\n"
     ]
    }
   ],
   "source": [
    "for k, s in enumerate(scms):\n",
    "    np.save(f'pre-process/lbps/lbp-{s}.npy', scaler.transform(lbps[k].reshape(-1, 1)).reshape(lbps[k].shape))\n",
    "    print(s)"
   ]
  },
  {
   "cell_type": "code",
   "execution_count": null,
   "metadata": {},
   "outputs": [],
   "source": []
  },
  {
   "cell_type": "code",
   "execution_count": null,
   "metadata": {},
   "outputs": [],
   "source": []
  },
  {
   "cell_type": "code",
   "execution_count": null,
   "metadata": {},
   "outputs": [],
   "source": []
  }
 ],
 "metadata": {
  "interpreter": {
   "hash": "9cedc55b3cbf3c6d99ff990673a8ddd4523edd6f7760ad30a6f7807a45845135"
  },
  "kernelspec": {
   "display_name": "Python 3.8.11 64-bit ('geo': conda)",
   "language": "python",
   "name": "python3"
  },
  "language_info": {
   "codemirror_mode": {
    "name": "ipython",
    "version": 3
   },
   "file_extension": ".py",
   "mimetype": "text/x-python",
   "name": "python",
   "nbconvert_exporter": "python",
   "pygments_lexer": "ipython3",
   "version": "3.8.12"
  },
  "orig_nbformat": 4
 },
 "nbformat": 4,
 "nbformat_minor": 2
}
