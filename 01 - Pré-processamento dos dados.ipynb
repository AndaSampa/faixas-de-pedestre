{
 "cells": [
  {
   "cell_type": "markdown",
   "metadata": {},
   "source": [
    "# Pré-Processamento dos dados"
   ]
  },
  {
   "cell_type": "code",
   "execution_count": null,
   "metadata": {},
   "outputs": [],
   "source": [
    "import geopandas as gpd\n",
    "import pandas as pd"
   ]
  },
  {
   "cell_type": "code",
   "execution_count": null,
   "metadata": {},
   "outputs": [],
   "source": [
    "scm_licoes = pd.read_csv('downloads/imagens/SCMs-licoes.csv')"
   ]
  },
  {
   "cell_type": "code",
   "execution_count": null,
   "metadata": {},
   "outputs": [],
   "source": [
    "licoes_utilizadas = scm_licoes.loc[scm_licoes[\"presente\"] == 1, 'scm']"
   ]
  },
  {
   "cell_type": "code",
   "execution_count": null,
   "metadata": {},
   "outputs": [],
   "source": [
    "licoes = gpd.read_file('licoes/licoes-por-scm.gpkg')"
   ]
  },
  {
   "cell_type": "code",
   "execution_count": null,
   "metadata": {},
   "outputs": [],
   "source": [
    "licoes = licoes[licoes.scm.isin(licoes_utilizadas)]"
   ]
  },
  {
   "cell_type": "code",
   "execution_count": null,
   "metadata": {},
   "outputs": [],
   "source": [
    "gdf_quadras = gpd.read_file('zip://downloads/SIRGAS_SHP_quadraMDSF.zip!/SIRGAS_SHP_quadraMDSF/SIRGAS_SHP_quadraMDSF.shp')"
   ]
  },
  {
   "cell_type": "code",
   "execution_count": null,
   "metadata": {},
   "outputs": [],
   "source": [
    "import rasterio\n",
    "import numpy as np\n",
    "from rasterio import features\n",
    "from matplotlib import pyplot\n",
    "from shapely.geometry import box\n",
    "from skimage.feature import hog\n",
    "from skimage.feature import local_binary_pattern\n",
    "from sklearn.preprocessing import StandardScaler, MinMaxScaler\n",
    "import joblib\n",
    "# from rasterio.plot import show"
   ]
  },
  {
   "cell_type": "code",
   "execution_count": null,
   "metadata": {},
   "outputs": [],
   "source": [
    "import glob\n",
    "import re"
   ]
  },
  {
   "cell_type": "markdown",
   "metadata": {},
   "source": [
    "## Re-Escalando e Normalizando os dados"
   ]
  },
  {
   "cell_type": "code",
   "execution_count": null,
   "metadata": {},
   "outputs": [],
   "source": [
    "radius = 3\n",
    "n_points = 8 * radius\n",
    "tamanho_janela = 24 # tamanho em pixels\n",
    "sobreposicao_de_janelas = 16 # sobreposição das janelas em pixels"
   ]
  },
  {
   "cell_type": "code",
   "execution_count": null,
   "metadata": {},
   "outputs": [],
   "source": [
    "scms, shapes, transforms, grayscales, hogs, lbps = [], [], [], [], [], []\n",
    "\n",
    "for f in glob.glob(\"downloads/imagens/*_RGB*.jp2\"):\n",
    "\n",
    "    scm = re.search('_(.*)_RGB', f).group(1)\n",
    "    scms.append(scm)\n",
    "    \n",
    "    print(f'Processando SCM: {scm}')\n",
    "    \n",
    "    dataset = rasterio.open(f)\n",
    "    transforms.append(dataset.transform)\n",
    "    shapes.append(dataset.shape) \n",
    "    \n",
    "    grayscale = 0.2125 * dataset.read(1) + \\\n",
    "            0.7154 * dataset.read(2) + \\\n",
    "            0.0721 * dataset.read(3)\n",
    "    grayscale = grayscale.astype('uint8')\n",
    "    grayscales.append(grayscale)\n"
   ]
  },
  {
   "cell_type": "code",
   "execution_count": null,
   "metadata": {},
   "outputs": [],
   "source": [
    "scaler = StandardScaler()\n",
    "scaler.fit(np.concatenate([x.reshape(-1) for x in grayscales]).reshape(-1, 1))"
   ]
  },
  {
   "cell_type": "code",
   "execution_count": null,
   "metadata": {},
   "outputs": [],
   "source": [
    "joblib.dump(scaler, 'pre-process/grayscale.scaler.save') "
   ]
  },
  {
   "cell_type": "code",
   "execution_count": null,
   "metadata": {},
   "outputs": [],
   "source": [
    "for k, s in enumerate(scms):\n",
    "    grayscale = scaler.transform(grayscales[k].reshape(-1, 1)).reshape(grayscales[k].shape)\n",
    "    with rasterio.open(\n",
    "        f'pre-process/grayscales/gray-scale-{s}.jp2', 'w',\n",
    "        driver='GTiff',\n",
    "        dtype=rasterio.float64,\n",
    "        count=1,\n",
    "        width=shapes[k][1],\n",
    "        height=shapes[k][0],\n",
    "        transform=transforms[k],\n",
    "        crs = rasterio.crs.CRS.from_string('EPSG:31983')) as dst:\n",
    "        dst.write(grayscale, indexes=1)\n",
    "    print(k, s)"
   ]
  },
  {
   "cell_type": "code",
   "execution_count": null,
   "metadata": {},
   "outputs": [],
   "source": [
    "for k, s in enumerate(scms):\n",
    "   \n",
    "    print(f'Processando SCM: {s}')\n",
    "\n",
    "    fd, hog_image = hog(grayscales[k], orientations=9, visualize=True, \n",
    "                    pixels_per_cell=(24, 24),\n",
    "                    cells_per_block=(3, 3))\n",
    "    hogs.append(hog_image)\n",
    "\n",
    "    lbp = local_binary_pattern(grayscales[k], n_points, radius)\n",
    "    lbps.append(lbp)\n",
    "    \n",
    "    # break"
   ]
  },
  {
   "cell_type": "code",
   "execution_count": null,
   "metadata": {},
   "outputs": [],
   "source": [
    "# for k, s in enumerate(scms):\n",
    "#     # grayscale = scaler.transform(grayscales[k].reshape(-1, 1)).reshape(grayscales[k].shape)\n",
    "#     with rasterio.open(\n",
    "#         f'pre-process/hogs/hog-{s}.jp2', 'w',\n",
    "#         driver='GTiff',\n",
    "#         dtype=rasterio.float64,\n",
    "#         count=1,\n",
    "#         width=shapes[k][1],\n",
    "#         height=shapes[k][0],\n",
    "#         transform=transforms[k],\n",
    "#         crs = rasterio.crs.CRS.from_string('EPSG:31983')) as dst:\n",
    "#         dst.write(hogs[k], indexes=1)\n",
    "#     with rasterio.open(\n",
    "#         f'pre-process/lbps/lbp-{s}.jp2', 'w',\n",
    "#         driver='GTiff',\n",
    "#         dtype=rasterio.float64,\n",
    "#         count=1,\n",
    "#         width=shapes[k][1],\n",
    "#         height=shapes[k][0],\n",
    "#         transform=transforms[k],\n",
    "#         crs = rasterio.crs.CRS.from_string('EPSG:31983')) as dst:\n",
    "#         dst.write(lbps[k], indexes=1)\n",
    "#     print(k, s)\n",
    "\n",
    "    # break"
   ]
  },
  {
   "cell_type": "code",
   "execution_count": null,
   "metadata": {},
   "outputs": [],
   "source": [
    "scaler = MinMaxScaler(feature_range=(-1, 1))"
   ]
  },
  {
   "cell_type": "code",
   "execution_count": null,
   "metadata": {},
   "outputs": [],
   "source": [
    "scaler.fit(np.concatenate([x.reshape(-1) for x in hogs]).reshape(-1, 1))"
   ]
  },
  {
   "cell_type": "code",
   "execution_count": null,
   "metadata": {},
   "outputs": [],
   "source": [
    "joblib.dump(scaler, 'pre-process/hog.scaler.save') "
   ]
  },
  {
   "cell_type": "code",
   "execution_count": null,
   "metadata": {},
   "outputs": [],
   "source": [
    "for k, s in enumerate(scms):\n",
    "    np.save(f'pre-process/hogs/hog-{s}.npy', scaler.transform(hogs[k].reshape(-1, 1)).reshape(hogs[k].shape))\n",
    "    print(s)\n",
    "    # print(scaler.transform(hogs[k].reshape(-1, 1)).reshape(hogs[k].shape))\n",
    "    # break"
   ]
  },
  {
   "cell_type": "code",
   "execution_count": null,
   "metadata": {},
   "outputs": [],
   "source": [
    "scaler = MinMaxScaler(feature_range=(-1, 1))"
   ]
  },
  {
   "cell_type": "code",
   "execution_count": null,
   "metadata": {},
   "outputs": [],
   "source": [
    "scaler.fit(np.concatenate([x.reshape(-1) for x in lbps]).reshape(-1, 1))"
   ]
  },
  {
   "cell_type": "code",
   "execution_count": null,
   "metadata": {},
   "outputs": [],
   "source": [
    "joblib.dump(scaler, 'pre-process/lbp.scaler.save')"
   ]
  },
  {
   "cell_type": "code",
   "execution_count": null,
   "metadata": {},
   "outputs": [],
   "source": [
    "for k, s in enumerate(scms):\n",
    "    np.save(f'pre-process/lbps/lbp-{s}.npy', scaler.transform(lbps[k].reshape(-1, 1)).reshape(lbps[k].shape))\n",
    "    print(s)"
   ]
  },
  {
   "cell_type": "code",
   "execution_count": null,
   "metadata": {},
   "outputs": [],
   "source": []
  }
 ],
 "metadata": {
  "interpreter": {
   "hash": "9cedc55b3cbf3c6d99ff990673a8ddd4523edd6f7760ad30a6f7807a45845135"
  },
  "kernelspec": {
   "display_name": "Python 3.8.11 64-bit ('geo': conda)",
   "language": "python",
   "name": "python3"
  },
  "language_info": {
   "codemirror_mode": {
    "name": "ipython",
    "version": 3
   },
   "file_extension": ".py",
   "mimetype": "text/x-python",
   "name": "python",
   "nbconvert_exporter": "python",
   "pygments_lexer": "ipython3",
   "version": "3.8.11"
  },
  "orig_nbformat": 4
 },
 "nbformat": 4,
 "nbformat_minor": 2
}
