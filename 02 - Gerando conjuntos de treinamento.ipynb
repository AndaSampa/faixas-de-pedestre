{
 "cells": [
  {
   "cell_type": "markdown",
   "metadata": {},
   "source": [
    "# Gerando conjunto de treinamentos"
   ]
  },
  {
   "cell_type": "code",
   "execution_count": 1,
   "metadata": {},
   "outputs": [],
   "source": [
    "import rasterio\n",
    "from rasterio import features\n",
    "import geopandas as gpd\n",
    "import pandas as pd\n",
    "import numpy as np\n",
    "from shapely.geometry import box\n",
    "import glob\n",
    "import re"
   ]
  },
  {
   "cell_type": "code",
   "execution_count": 2,
   "metadata": {},
   "outputs": [],
   "source": [
    "scm_licoes = pd.read_csv('downloads/imagens/SCMs-licoes.csv')\n",
    "licoes_utilizadas = scm_licoes.loc[scm_licoes[\"presente\"] == 1, 'scm']\n",
    "licoes = gpd.read_file('licoes/licoes-por-scm.gpkg')\n",
    "licoes = licoes[licoes.scm.isin(licoes_utilizadas)]\n",
    "gdf_quadras = gpd.read_file('zip://downloads/SIRGAS_SHP_quadraMDSF.zip!/SIRGAS_SHP_quadraMDSF/SIRGAS_SHP_quadraMDSF.shp')"
   ]
  },
  {
   "cell_type": "code",
   "execution_count": 3,
   "metadata": {},
   "outputs": [],
   "source": [
    "# TODO - Colocar esse parâmetros em um arquivo para importacao\n",
    "tamanho_janela = 24 # tamanho em pixels\n",
    "sobreposicao_de_janelas = 18 # sobreposição das janelas em pixels"
   ]
  },
  {
   "cell_type": "code",
   "execution_count": 4,
   "metadata": {},
   "outputs": [
    {
     "name": "stdout",
     "output_type": "stream",
     "text": [
      "SCM: 3313-412: 5909 ruas e 595 faixas\n",
      "SCM: 3325-164: 8359 ruas e 500 faixas\n",
      "SCM: 3326-461: 5756 ruas e 534 faixas\n",
      "SCM: 3313-432: 7907 ruas e 2809 faixas\n",
      "SCM: 3315-211: 6940 ruas e 513 faixas\n",
      "SCM: 3325-332: 5595 ruas e 636 faixas\n",
      "SCM: 3326-424: 6324 ruas e 391 faixas\n",
      "SCM: 3314-311: 7292 ruas e 2104 faixas\n",
      "SCM: 3315-132: 8665 ruas e 1372 faixas\n",
      "SCM: 3313-414: 8706 ruas e 1912 faixas\n",
      "SCM: 3325-334: 5223 ruas e 1237 faixas\n",
      "SCM: 3316-221: 5980 ruas e 1764 faixas\n"
     ]
    }
   ],
   "source": [
    "for f in glob.glob(\"pre-process/grayscales/*.jp2\"):\n",
    "    \n",
    "    data, target = [], []\n",
    "\n",
    "    dataset = rasterio.open(f)\n",
    "    scm = re.search('gray-scale-(.*).jp2', f).group(1)\n",
    "    \n",
    "    grayscale = dataset.read(1).astype('float32')\n",
    "\n",
    "    labels = features.rasterize(\n",
    "        ((g, 255) for g in licoes[licoes.scm == scm].geometry.explode()),\n",
    "        out_shape=dataset.shape,\n",
    "        transform=dataset.transform)\n",
    "\n",
    "    quadras_scm = gpd.clip(gdf_quadras, gpd.GeoSeries(box(*dataset.bounds))).unary_union\n",
    "\n",
    "    quadras = features.rasterize(\n",
    "        ((g, 255) for g in quadras_scm),\n",
    "        out_shape=dataset.shape,\n",
    "        transform=dataset.transform)\n",
    "\n",
    "    sobel_image = np.load(f'pre-process/sobel/sobel-{scm}.npy').astype('float32')\n",
    "    lbp = np.load(f'pre-process/sobel/sobel-{scm}.npy').astype('float32')\n",
    "\n",
    "    rua = 0\n",
    "    faixa = 0\n",
    "\n",
    "    for i in np.arange(0, grayscale.shape[0] - tamanho_janela, tamanho_janela - sobreposicao_de_janelas):\n",
    "        for j in np.arange(0, grayscale.shape[1] - tamanho_janela, tamanho_janela - sobreposicao_de_janelas):\n",
    "            # Se mais de 98% dos pixels estiverem fora da quadra\n",
    "            if np.count_nonzero(quadras[i:i+tamanho_janela, j:j+tamanho_janela] == 255) < 0.02 * (tamanho_janela ** 2):\n",
    "                # print(i, j)\n",
    "                img_gray = grayscale[i:i+tamanho_janela, j:j+tamanho_janela]\n",
    "                img_sobel = sobel_image[i:i+tamanho_janela, j:j+tamanho_janela]\n",
    "                img_lbp = lbp[i:i+tamanho_janela, j:j+tamanho_janela]\n",
    "\n",
    "                # Data Augmentation\n",
    "                \n",
    "                img = np.concatenate([\n",
    "                    img_gray,\n",
    "                    img_sobel,\n",
    "                    img_lbp\n",
    "                ]).reshape(1, 3 * (tamanho_janela ** 2))\n",
    "                \n",
    "                ## Caso mais de 66% dos pixels estiverem dentro da lição (faixa)\n",
    "                if np.count_nonzero(labels[i:i+tamanho_janela, j:j+tamanho_janela] == 255) > 0.66 * (tamanho_janela ** 2):\n",
    "                    faixa += 1\n",
    "                    data.append(img.reshape(1, 3 * (tamanho_janela ** 2)))\n",
    "                    target.append(1)\n",
    "\n",
    "                else:\n",
    "                    # adiciona lição negativa somente se for múltiplo do tamanho da janela\n",
    "                    # estratégia para reduzir o número de licoes negativas\n",
    "                    if i % tamanho_janela == 0 and j % tamanho_janela == 0:\n",
    "                        rua += 1\n",
    "                        data.append(img.reshape(1, 3 * (tamanho_janela ** 2)))\n",
    "                        target.append(0)\n",
    "\n",
    "    np.save(f'pre-process/data/data-{scm}.npy', np.array(data).squeeze())\n",
    "    np.save(f'pre-process/data/target-{scm}.npy', np.array(target))\n",
    "    print(f\"SCM: {scm}: {rua} ruas e {faixa} faixas\")\n",
    "    # break\n"
   ]
  },
  {
   "cell_type": "code",
   "execution_count": null,
   "metadata": {},
   "outputs": [],
   "source": []
  },
  {
   "cell_type": "code",
   "execution_count": null,
   "metadata": {},
   "outputs": [],
   "source": []
  },
  {
   "cell_type": "code",
   "execution_count": null,
   "metadata": {},
   "outputs": [],
   "source": []
  },
  {
   "cell_type": "code",
   "execution_count": 5,
   "metadata": {},
   "outputs": [
    {
     "data": {
      "text/plain": [
       "array([ True, False, False,  True, False, False,  True, False, False,\n",
       "        True, False, False,  True, False, False,  True, False, False,\n",
       "        True, False, False,  True, False, False,  True, False, False,\n",
       "        True, False, False,  True, False, False,  True, False, False,\n",
       "        True, False, False,  True, False, False,  True, False, False,\n",
       "        True, False, False,  True, False, False,  True, False, False,\n",
       "        True, False, False,  True, False, False])"
      ]
     },
     "execution_count": 5,
     "metadata": {},
     "output_type": "execute_result"
    }
   ],
   "source": [
    "np.arange(0, 480, 24-16) % 24 == 0"
   ]
  },
  {
   "cell_type": "code",
   "execution_count": 6,
   "metadata": {},
   "outputs": [
    {
     "data": {
      "text/plain": [
       "array([  0,   8,  16,  24,  32,  40,  48,  56,  64,  72,  80,  88,  96,\n",
       "       104, 112, 120, 128, 136, 144, 152, 160, 168, 176, 184, 192, 200,\n",
       "       208, 216, 224, 232, 240, 248, 256, 264, 272, 280, 288, 296, 304,\n",
       "       312, 320, 328, 336, 344, 352, 360, 368, 376, 384, 392, 400, 408,\n",
       "       416, 424, 432, 440, 448, 456, 464, 472])"
      ]
     },
     "execution_count": 6,
     "metadata": {},
     "output_type": "execute_result"
    }
   ],
   "source": [
    "np.arange(0, 480, 24-16)"
   ]
  },
  {
   "cell_type": "code",
   "execution_count": 7,
   "metadata": {},
   "outputs": [
    {
     "data": {
      "text/plain": [
       "array([[0, 1, 2],\n",
       "       [3, 4, 5],\n",
       "       [6, 7, 8]])"
      ]
     },
     "execution_count": 7,
     "metadata": {},
     "output_type": "execute_result"
    }
   ],
   "source": [
    "np.arange(9).reshape(3, 3)"
   ]
  },
  {
   "cell_type": "code",
   "execution_count": 8,
   "metadata": {},
   "outputs": [
    {
     "name": "stdout",
     "output_type": "stream",
     "text": [
      "[[[0 1 2]\n",
      "  [3 4 5]\n",
      "  [6 7 8]]]\n",
      "[[[2 5 8]\n",
      "  [1 4 7]\n",
      "  [0 3 6]]]\n",
      "[[[8 7 6]\n",
      "  [5 4 3]\n",
      "  [2 1 0]]]\n",
      "[[[6 3 0]\n",
      "  [7 4 1]\n",
      "  [8 5 2]]]\n"
     ]
    }
   ],
   "source": [
    "for k in range(4):\n",
    "    print(np.rot90(np.arange(9).reshape(1, 3, 3), k=k, axes=(1,2)))\n"
   ]
  },
  {
   "cell_type": "code",
   "execution_count": 9,
   "metadata": {},
   "outputs": [
    {
     "data": {
      "text/plain": [
       "array([[[6, 7, 8],\n",
       "        [3, 4, 5],\n",
       "        [0, 1, 2]]])"
      ]
     },
     "execution_count": 9,
     "metadata": {},
     "output_type": "execute_result"
    }
   ],
   "source": [
    "np.flip(np.arange(9).reshape(1, 3, 3), axis=1)"
   ]
  },
  {
   "cell_type": "code",
   "execution_count": null,
   "metadata": {},
   "outputs": [],
   "source": []
  }
 ],
 "metadata": {
  "interpreter": {
   "hash": "9cedc55b3cbf3c6d99ff990673a8ddd4523edd6f7760ad30a6f7807a45845135"
  },
  "kernelspec": {
   "display_name": "Python 3.8.11 64-bit ('geo': conda)",
   "language": "python",
   "name": "python3"
  },
  "language_info": {
   "codemirror_mode": {
    "name": "ipython",
    "version": 3
   },
   "file_extension": ".py",
   "mimetype": "text/x-python",
   "name": "python",
   "nbconvert_exporter": "python",
   "pygments_lexer": "ipython3",
   "version": "3.8.11"
  },
  "orig_nbformat": 4
 },
 "nbformat": 4,
 "nbformat_minor": 2
}
