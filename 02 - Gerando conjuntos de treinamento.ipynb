{
 "cells": [
  {
   "cell_type": "markdown",
   "metadata": {},
   "source": [
    "# Gerando conjunto de treinamentos"
   ]
  },
  {
   "cell_type": "code",
   "execution_count": null,
   "metadata": {},
   "outputs": [],
   "source": [
    "import rasterio\n",
    "from rasterio import features\n",
    "import geopandas as gpd\n",
    "import pandas as pd\n",
    "import numpy as np\n",
    "from shapely.geometry import box\n",
    "import glob\n",
    "import re"
   ]
  },
  {
   "cell_type": "code",
   "execution_count": null,
   "metadata": {},
   "outputs": [],
   "source": [
    "scm_licoes = pd.read_csv('downloads/imagens/SCMs-licoes.csv')\n",
    "licoes_utilizadas = scm_licoes.loc[scm_licoes[\"presente\"] == 1, 'scm']\n",
    "licoes = gpd.read_file('licoes/licoes-por-scm.gpkg')\n",
    "licoes = licoes[licoes.scm.isin(licoes_utilizadas)]\n",
    "gdf_quadras = gpd.read_file('zip://downloads/SIRGAS_SHP_quadraMDSF.zip!/SIRGAS_SHP_quadraMDSF/SIRGAS_SHP_quadraMDSF.shp')"
   ]
  },
  {
   "cell_type": "code",
   "execution_count": null,
   "metadata": {},
   "outputs": [],
   "source": [
    "tamanho_janela = 24 # tamanho em pixels\n",
    "sobreposicao_de_janelas = 16 # sobreposição das janelas em pixels"
   ]
  },
  {
   "cell_type": "code",
   "execution_count": null,
   "metadata": {},
   "outputs": [],
   "source": [
    " \n",
    "\n",
    "for f in glob.glob(\"pre-process/grayscales/*.jp2\"):\n",
    "    \n",
    "    data, target = [], []\n",
    "\n",
    "    dataset = rasterio.open(f)\n",
    "    scm = re.search('gray-scale-(.*).jp2', f).group(1)\n",
    "    \n",
    "    grayscale = dataset.read(1).astype('float32')\n",
    "\n",
    "    labels = features.rasterize(\n",
    "        ((g, 255) for g in licoes[licoes.scm == scm].geometry.explode()),\n",
    "        out_shape=dataset.shape,\n",
    "        transform=dataset.transform)\n",
    "\n",
    "    quadras_scm = gpd.clip(gdf_quadras, gpd.GeoSeries(box(*dataset.bounds))).unary_union\n",
    "\n",
    "    quadras = features.rasterize(\n",
    "        ((g, 255) for g in quadras_scm),\n",
    "        out_shape=dataset.shape,\n",
    "        transform=dataset.transform)\n",
    "\n",
    "    hog_image = np.load(f'pre-process/hogs/hog-{scm}.npy').astype('float32')\n",
    "    lbp = np.load(f'pre-process/hogs/hog-{scm}.npy').astype('float32')\n",
    "\n",
    "    rua = 0\n",
    "    faixa = 0\n",
    "\n",
    "    for i in np.arange(0, grayscale.shape[0] - tamanho_janela, tamanho_janela - sobreposicao_de_janelas):\n",
    "        for j in np.arange(0, grayscale.shape[1] - tamanho_janela, tamanho_janela - sobreposicao_de_janelas):\n",
    "            # Se mais de 80% dos pixels estiverem fora da quadra\n",
    "            if np.count_nonzero(quadras[i:i+tamanho_janela, j:j+tamanho_janela] == 255) < 0.05 * (tamanho_janela ** 2):\n",
    "                # print(i, j)\n",
    "                # Se mais de 80% dos pixels estiverem dentro de um label de faixa de pedestre\n",
    "                img_gray = grayscale[i:i+tamanho_janela, j:j+tamanho_janela]\n",
    "                img_hog = hog_image[i:i+tamanho_janela, j:j+tamanho_janela]\n",
    "                img_lbp = lbp[i:i+tamanho_janela, j:j+tamanho_janela]\n",
    "\n",
    "                # Data Augmentation\n",
    "                \n",
    "                img = np.concatenate([\n",
    "                    img_gray,\n",
    "                    img_hog,\n",
    "                    img_lbp\n",
    "                ]).reshape(1, 3 * (tamanho_janela ** 2))\n",
    "                \n",
    "                if np.count_nonzero(labels[i:i+tamanho_janela, j:j+tamanho_janela] == 255) > 0.80 * (tamanho_janela ** 2):\n",
    "                    faixa += 16\n",
    "                    \n",
    "\n",
    "                    for r in ['rotaciona 0', 'rotaciona 90', 'rotaciona 180', 'rotaciona 270']:\n",
    "                        \n",
    "                        # flip Up/Down\n",
    "\n",
    "                        img_flipud = np.concatenate([\n",
    "                            np.flipud(img_gray),\n",
    "                            np.flipud(img_hog),\n",
    "                            np.flipud(img_lbp)\n",
    "                        ]).reshape(1, 3 * (tamanho_janela ** 2))\n",
    "\n",
    "                        # flip Left/Right\n",
    "\n",
    "                        img_fliplr = np.concatenate([\n",
    "                            np.fliplr(img_gray),\n",
    "                            np.fliplr(img_hog),\n",
    "                            np.fliplr(img_lbp)\n",
    "                        ]).reshape(1, 3 * (tamanho_janela ** 2))\n",
    "\n",
    "                        # flip\n",
    "\n",
    "                        img_flip = np.concatenate([\n",
    "                            np.flip(img_gray),\n",
    "                            np.flip(img_hog),\n",
    "                            np.flip(img_lbp)\n",
    "                        ]).reshape(1, 3 * (tamanho_janela ** 2))\n",
    "\n",
    "                        for fl_img in (img, img_flipud, img_fliplr, img_flip):\n",
    "                        # for fl_img in (img):\n",
    "                            data.append(fl_img.reshape(1, 3 * (tamanho_janela ** 2)))\n",
    "                            target.append(1)\n",
    "\n",
    "\n",
    "                        img_gray, img_hog, img_lbp = np.rot90(img_gray), np.rot90(img_hog), np.rot90(img_lbp)\n",
    "\n",
    "                else:\n",
    "                    rua += 1\n",
    "                    data.append(img.reshape(1, 3 * (tamanho_janela ** 2)))\n",
    "                    target.append(0)\n",
    "\n",
    "    np.save(f'pre-process/data/data-{scm}.npy', np.array(data).squeeze())\n",
    "    np.save(f'pre-process/data/target-{scm}.npy', np.array(target))\n",
    "    print(f\"SCM: {scm}: {rua} ruas e {faixa} faixas\")\n",
    "    # break\n"
   ]
  },
  {
   "cell_type": "code",
   "execution_count": null,
   "metadata": {},
   "outputs": [],
   "source": [
    "np.count_nonzero(np.array(target))"
   ]
  },
  {
   "cell_type": "code",
   "execution_count": null,
   "metadata": {},
   "outputs": [],
   "source": []
  },
  {
   "cell_type": "code",
   "execution_count": null,
   "metadata": {},
   "outputs": [],
   "source": []
  }
 ],
 "metadata": {
  "interpreter": {
   "hash": "9cedc55b3cbf3c6d99ff990673a8ddd4523edd6f7760ad30a6f7807a45845135"
  },
  "kernelspec": {
   "display_name": "Python 3.8.11 64-bit ('geo': conda)",
   "language": "python",
   "name": "python3"
  },
  "language_info": {
   "codemirror_mode": {
    "name": "ipython",
    "version": 3
   },
   "file_extension": ".py",
   "mimetype": "text/x-python",
   "name": "python",
   "nbconvert_exporter": "python",
   "pygments_lexer": "ipython3",
   "version": "3.8.11"
  },
  "orig_nbformat": 4
 },
 "nbformat": 4,
 "nbformat_minor": 2
}
