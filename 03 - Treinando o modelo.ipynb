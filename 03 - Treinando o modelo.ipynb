{
 "cells": [
  {
   "cell_type": "markdown",
   "metadata": {},
   "source": [
    "# Treinando os modelos"
   ]
  },
  {
   "cell_type": "code",
   "execution_count": 2,
   "metadata": {},
   "outputs": [],
   "source": [
    "import pandas as pd\n",
    "import numpy as np\n",
    "import glob"
   ]
  },
  {
   "cell_type": "code",
   "execution_count": 3,
   "metadata": {},
   "outputs": [],
   "source": [
    "scm_licoes = pd.read_csv('downloads/imagens/SCMs-licoes.csv')\n",
    "licoes_utilizadas = scm_licoes.loc[scm_licoes[\"presente\"] == 1, 'scm']"
   ]
  },
  {
   "cell_type": "code",
   "execution_count": 4,
   "metadata": {},
   "outputs": [],
   "source": [
    "scm_train = licoes_utilizadas.sample(frac=0.5, random_state=13)"
   ]
  },
  {
   "cell_type": "code",
   "execution_count": 5,
   "metadata": {},
   "outputs": [],
   "source": [
    "scm_test = licoes_utilizadas[~licoes_utilizadas.isin(scm_train)]"
   ]
  },
  {
   "cell_type": "code",
   "execution_count": 6,
   "metadata": {},
   "outputs": [
    {
     "data": {
      "text/plain": [
       "['3315-211', '3325-334', '3314-311', '3325-164', '3325-332', '3313-414']"
      ]
     },
     "execution_count": 6,
     "metadata": {},
     "output_type": "execute_result"
    }
   ],
   "source": [
    "scm_train.tolist()"
   ]
  },
  {
   "cell_type": "code",
   "execution_count": 7,
   "metadata": {},
   "outputs": [],
   "source": [
    "y_train =  np.concatenate([np.load(f'pre-process/data/target-{s}.npy') for s in scm_train.tolist()])"
   ]
  },
  {
   "cell_type": "code",
   "execution_count": 8,
   "metadata": {},
   "outputs": [],
   "source": [
    "X_train =  np.concatenate([np.load(f'pre-process/data/data-{s}.npy') for s in scm_train.tolist()])"
   ]
  },
  {
   "cell_type": "markdown",
   "metadata": {},
   "source": [
    "## Treinando modelo Linear SVM"
   ]
  },
  {
   "cell_type": "code",
   "execution_count": 9,
   "metadata": {},
   "outputs": [],
   "source": [
    "from sklearn.ensemble import RandomForestClassifier\n",
    "from sklearn.linear_model import SGDClassifier\n",
    "\n",
    "# clf = svm.SVC(kernel='linear') # Linear Kernel\n",
    "# clf = RandomForestClassifier(n_estimators=100, n_jobs=6, verbose=6)\n",
    "clf = SGDClassifier(n_jobs=7, verbose=6, max_iter=5000)"
   ]
  },
  {
   "cell_type": "code",
   "execution_count": 10,
   "metadata": {},
   "outputs": [
    {
     "name": "stdout",
     "output_type": "stream",
     "text": [
      "-- Epoch 1\n",
      "Norm: 100.40, NNZs: 1728, Bias: 37.303205, T: 450680, Avg. loss: 22.686851\n",
      "Total training time: 1.50 seconds.\n",
      "-- Epoch 2\n",
      "Norm: 74.69, NNZs: 1728, Bias: 39.389049, T: 901360, Avg. loss: 1.903470\n",
      "Total training time: 2.99 seconds.\n",
      "-- Epoch 3\n",
      "Norm: 61.71, NNZs: 1728, Bias: 40.245829, T: 1352040, Avg. loss: 1.115849\n",
      "Total training time: 4.49 seconds.\n",
      "-- Epoch 4\n",
      "Norm: 53.65, NNZs: 1728, Bias: 40.719324, T: 1802720, Avg. loss: 0.823656\n",
      "Total training time: 5.97 seconds.\n",
      "-- Epoch 5\n",
      "Norm: 48.13, NNZs: 1728, Bias: 41.031457, T: 2253400, Avg. loss: 0.663434\n",
      "Total training time: 7.54 seconds.\n",
      "-- Epoch 6\n",
      "Norm: 44.10, NNZs: 1728, Bias: 41.262525, T: 2704080, Avg. loss: 0.566453\n",
      "Total training time: 9.06 seconds.\n",
      "-- Epoch 7\n",
      "Norm: 41.01, NNZs: 1728, Bias: 41.437893, T: 3154760, Avg. loss: 0.500244\n",
      "Total training time: 10.55 seconds.\n",
      "-- Epoch 8\n",
      "Norm: 38.54, NNZs: 1728, Bias: 41.576942, T: 3605440, Avg. loss: 0.452449\n",
      "Total training time: 12.04 seconds.\n",
      "-- Epoch 9\n",
      "Norm: 36.53, NNZs: 1728, Bias: 41.692322, T: 4056120, Avg. loss: 0.414713\n",
      "Total training time: 13.46 seconds.\n",
      "-- Epoch 10\n",
      "Norm: 34.84, NNZs: 1728, Bias: 41.788188, T: 4506800, Avg. loss: 0.386348\n",
      "Total training time: 14.89 seconds.\n",
      "-- Epoch 11\n",
      "Norm: 33.44, NNZs: 1728, Bias: 41.877111, T: 4957480, Avg. loss: 0.364195\n",
      "Total training time: 16.31 seconds.\n",
      "-- Epoch 12\n",
      "Norm: 32.24, NNZs: 1728, Bias: 41.954469, T: 5408160, Avg. loss: 0.345782\n",
      "Total training time: 17.72 seconds.\n",
      "-- Epoch 13\n",
      "Norm: 31.19, NNZs: 1728, Bias: 42.016709, T: 5858840, Avg. loss: 0.329893\n",
      "Total training time: 19.11 seconds.\n",
      "-- Epoch 14\n",
      "Norm: 30.27, NNZs: 1728, Bias: 42.076027, T: 6309520, Avg. loss: 0.315247\n",
      "Total training time: 20.54 seconds.\n",
      "-- Epoch 15\n",
      "Norm: 29.47, NNZs: 1728, Bias: 42.132635, T: 6760200, Avg. loss: 0.303586\n",
      "Total training time: 21.91 seconds.\n",
      "-- Epoch 16\n",
      "Norm: 28.74, NNZs: 1728, Bias: 42.182732, T: 7210880, Avg. loss: 0.293468\n",
      "Total training time: 23.27 seconds.\n",
      "-- Epoch 17\n",
      "Norm: 28.11, NNZs: 1728, Bias: 42.228393, T: 7661560, Avg. loss: 0.286121\n",
      "Total training time: 24.67 seconds.\n",
      "-- Epoch 18\n",
      "Norm: 27.54, NNZs: 1728, Bias: 42.267629, T: 8112240, Avg. loss: 0.277384\n",
      "Total training time: 26.10 seconds.\n",
      "-- Epoch 19\n",
      "Norm: 27.01, NNZs: 1728, Bias: 42.307169, T: 8562920, Avg. loss: 0.270786\n",
      "Total training time: 27.44 seconds.\n",
      "-- Epoch 20\n",
      "Norm: 26.52, NNZs: 1728, Bias: 42.342416, T: 9013600, Avg. loss: 0.264243\n",
      "Total training time: 28.79 seconds.\n",
      "-- Epoch 21\n",
      "Norm: 26.09, NNZs: 1728, Bias: 42.375972, T: 9464280, Avg. loss: 0.258347\n",
      "Total training time: 30.14 seconds.\n",
      "-- Epoch 22\n",
      "Norm: 25.69, NNZs: 1728, Bias: 42.404894, T: 9914960, Avg. loss: 0.253798\n",
      "Total training time: 31.50 seconds.\n",
      "-- Epoch 23\n",
      "Norm: 25.32, NNZs: 1728, Bias: 42.437426, T: 10365640, Avg. loss: 0.248886\n",
      "Total training time: 32.85 seconds.\n",
      "-- Epoch 24\n",
      "Norm: 24.97, NNZs: 1728, Bias: 42.462896, T: 10816320, Avg. loss: 0.244379\n",
      "Total training time: 34.25 seconds.\n",
      "-- Epoch 25\n",
      "Norm: 24.65, NNZs: 1728, Bias: 42.488275, T: 11267000, Avg. loss: 0.240297\n",
      "Total training time: 35.70 seconds.\n",
      "-- Epoch 26\n",
      "Norm: 24.36, NNZs: 1728, Bias: 42.512681, T: 11717680, Avg. loss: 0.237174\n",
      "Total training time: 37.06 seconds.\n",
      "-- Epoch 27\n",
      "Norm: 24.07, NNZs: 1728, Bias: 42.536161, T: 12168360, Avg. loss: 0.233541\n",
      "Total training time: 38.42 seconds.\n",
      "-- Epoch 28\n",
      "Norm: 23.81, NNZs: 1728, Bias: 42.558761, T: 12619040, Avg. loss: 0.230228\n",
      "Total training time: 39.78 seconds.\n",
      "-- Epoch 29\n",
      "Norm: 23.56, NNZs: 1728, Bias: 42.579794, T: 13069720, Avg. loss: 0.227534\n",
      "Total training time: 41.14 seconds.\n",
      "-- Epoch 30\n",
      "Norm: 23.33, NNZs: 1728, Bias: 42.602332, T: 13520400, Avg. loss: 0.224553\n",
      "Total training time: 42.49 seconds.\n",
      "-- Epoch 31\n",
      "Norm: 23.11, NNZs: 1728, Bias: 42.619802, T: 13971080, Avg. loss: 0.222211\n",
      "Total training time: 43.86 seconds.\n",
      "-- Epoch 32\n",
      "Norm: 22.90, NNZs: 1728, Bias: 42.638828, T: 14421760, Avg. loss: 0.219578\n",
      "Total training time: 45.21 seconds.\n",
      "-- Epoch 33\n",
      "Norm: 22.71, NNZs: 1728, Bias: 42.655245, T: 14872440, Avg. loss: 0.217399\n",
      "Total training time: 46.57 seconds.\n",
      "-- Epoch 34\n",
      "Norm: 22.53, NNZs: 1728, Bias: 42.673803, T: 15323120, Avg. loss: 0.215229\n",
      "Total training time: 47.93 seconds.\n",
      "-- Epoch 35\n",
      "Norm: 22.36, NNZs: 1728, Bias: 42.691156, T: 15773800, Avg. loss: 0.213668\n",
      "Total training time: 49.30 seconds.\n",
      "-- Epoch 36\n",
      "Norm: 22.19, NNZs: 1728, Bias: 42.705531, T: 16224480, Avg. loss: 0.211626\n",
      "Total training time: 50.65 seconds.\n",
      "-- Epoch 37\n",
      "Norm: 22.03, NNZs: 1728, Bias: 42.718899, T: 16675160, Avg. loss: 0.210240\n",
      "Total training time: 52.01 seconds.\n",
      "-- Epoch 38\n",
      "Norm: 21.88, NNZs: 1728, Bias: 42.733097, T: 17125840, Avg. loss: 0.208177\n",
      "Total training time: 53.35 seconds.\n",
      "-- Epoch 39\n",
      "Norm: 21.73, NNZs: 1728, Bias: 42.748093, T: 17576520, Avg. loss: 0.206621\n",
      "Total training time: 54.72 seconds.\n",
      "-- Epoch 40\n",
      "Norm: 21.59, NNZs: 1728, Bias: 42.762682, T: 18027200, Avg. loss: 0.204753\n",
      "Total training time: 56.09 seconds.\n",
      "-- Epoch 41\n",
      "Norm: 21.46, NNZs: 1728, Bias: 42.774735, T: 18477880, Avg. loss: 0.203528\n",
      "Total training time: 57.44 seconds.\n",
      "-- Epoch 42\n",
      "Norm: 21.34, NNZs: 1728, Bias: 42.786509, T: 18928560, Avg. loss: 0.202222\n",
      "Total training time: 58.80 seconds.\n",
      "-- Epoch 43\n",
      "Norm: 21.22, NNZs: 1728, Bias: 42.800085, T: 19379240, Avg. loss: 0.200886\n",
      "Total training time: 60.15 seconds.\n",
      "-- Epoch 44\n",
      "Norm: 21.10, NNZs: 1728, Bias: 42.811815, T: 19829920, Avg. loss: 0.199641\n",
      "Total training time: 61.52 seconds.\n",
      "-- Epoch 45\n",
      "Norm: 21.00, NNZs: 1728, Bias: 42.823272, T: 20280600, Avg. loss: 0.198600\n",
      "Total training time: 62.87 seconds.\n",
      "-- Epoch 46\n",
      "Norm: 20.89, NNZs: 1728, Bias: 42.834980, T: 20731280, Avg. loss: 0.197218\n",
      "Total training time: 64.21 seconds.\n",
      "-- Epoch 47\n",
      "Norm: 20.79, NNZs: 1728, Bias: 42.845469, T: 21181960, Avg. loss: 0.196359\n",
      "Total training time: 65.56 seconds.\n",
      "-- Epoch 48\n",
      "Norm: 20.69, NNZs: 1728, Bias: 42.856220, T: 21632640, Avg. loss: 0.195273\n",
      "Total training time: 66.92 seconds.\n",
      "-- Epoch 49\n",
      "Norm: 20.59, NNZs: 1728, Bias: 42.865364, T: 22083320, Avg. loss: 0.194232\n",
      "Total training time: 68.28 seconds.\n",
      "-- Epoch 50\n",
      "Norm: 20.50, NNZs: 1728, Bias: 42.876126, T: 22534000, Avg. loss: 0.193094\n",
      "Total training time: 69.63 seconds.\n",
      "-- Epoch 51\n",
      "Norm: 20.41, NNZs: 1728, Bias: 42.885355, T: 22984680, Avg. loss: 0.192334\n",
      "Total training time: 70.99 seconds.\n",
      "-- Epoch 52\n",
      "Norm: 20.33, NNZs: 1728, Bias: 42.894399, T: 23435360, Avg. loss: 0.191475\n",
      "Total training time: 72.35 seconds.\n",
      "-- Epoch 53\n",
      "Norm: 20.24, NNZs: 1728, Bias: 42.904118, T: 23886040, Avg. loss: 0.190276\n",
      "Total training time: 73.70 seconds.\n",
      "-- Epoch 54\n",
      "Norm: 20.16, NNZs: 1728, Bias: 42.912407, T: 24336720, Avg. loss: 0.189889\n",
      "Total training time: 75.05 seconds.\n",
      "-- Epoch 55\n",
      "Norm: 20.09, NNZs: 1728, Bias: 42.921357, T: 24787400, Avg. loss: 0.188729\n",
      "Total training time: 76.41 seconds.\n",
      "-- Epoch 56\n",
      "Norm: 20.01, NNZs: 1728, Bias: 42.929359, T: 25238080, Avg. loss: 0.187944\n",
      "Total training time: 77.78 seconds.\n",
      "-- Epoch 57\n",
      "Norm: 19.94, NNZs: 1728, Bias: 42.937615, T: 25688760, Avg. loss: 0.187170\n",
      "Total training time: 79.13 seconds.\n",
      "-- Epoch 58\n",
      "Norm: 19.87, NNZs: 1728, Bias: 42.946111, T: 26139440, Avg. loss: 0.186521\n",
      "Total training time: 80.49 seconds.\n",
      "-- Epoch 59\n",
      "Norm: 19.81, NNZs: 1728, Bias: 42.954078, T: 26590120, Avg. loss: 0.185818\n",
      "Total training time: 81.86 seconds.\n",
      "-- Epoch 60\n",
      "Norm: 19.74, NNZs: 1728, Bias: 42.961167, T: 27040800, Avg. loss: 0.185141\n",
      "Total training time: 83.24 seconds.\n",
      "Convergence after 60 epochs took 83.24 seconds\n"
     ]
    },
    {
     "data": {
      "text/plain": [
       "SGDClassifier(n_jobs=6, verbose=6)"
      ]
     },
     "execution_count": 10,
     "metadata": {},
     "output_type": "execute_result"
    }
   ],
   "source": [
    "clf.fit(X_train, y_train)"
   ]
  },
  {
   "cell_type": "code",
   "execution_count": 11,
   "metadata": {},
   "outputs": [
    {
     "data": {
      "text/plain": [
       "SGDClassifier(n_jobs=6, verbose=6)"
      ]
     },
     "execution_count": 11,
     "metadata": {},
     "output_type": "execute_result"
    }
   ],
   "source": [
    "clf"
   ]
  },
  {
   "cell_type": "code",
   "execution_count": 12,
   "metadata": {},
   "outputs": [],
   "source": [
    "del X_train"
   ]
  },
  {
   "cell_type": "code",
   "execution_count": 13,
   "metadata": {},
   "outputs": [],
   "source": [
    "X_test =  np.concatenate([np.load(f'pre-process/data/data-{s}.npy') for s in scm_test.tolist()])"
   ]
  },
  {
   "cell_type": "code",
   "execution_count": 14,
   "metadata": {},
   "outputs": [],
   "source": [
    "y_test =  np.concatenate([np.load(f'pre-process/data/target-{s}.npy') for s in scm_test.tolist()])"
   ]
  },
  {
   "cell_type": "code",
   "execution_count": 15,
   "metadata": {},
   "outputs": [],
   "source": [
    "y_pred = clf.predict(X_test)"
   ]
  },
  {
   "cell_type": "code",
   "execution_count": 16,
   "metadata": {},
   "outputs": [],
   "source": [
    "from sklearn import metrics\n",
    "from sklearn.metrics import classification_report\n",
    "from sklearn.metrics import confusion_matrix"
   ]
  },
  {
   "cell_type": "code",
   "execution_count": 17,
   "metadata": {},
   "outputs": [
    {
     "name": "stdout",
     "output_type": "stream",
     "text": [
      "Accuracy: 0.9213594591312093\n"
     ]
    }
   ],
   "source": [
    "print(\"Accuracy:\",metrics.accuracy_score(y_test, y_pred))"
   ]
  },
  {
   "cell_type": "code",
   "execution_count": 18,
   "metadata": {},
   "outputs": [
    {
     "name": "stdout",
     "output_type": "stream",
     "text": [
      "              precision    recall  f1-score   support\n",
      "\n",
      "           0       0.91      1.00      0.96    376186\n",
      "           1       1.00      0.49      0.66     68432\n",
      "\n",
      "    accuracy                           0.92    444618\n",
      "   macro avg       0.96      0.74      0.81    444618\n",
      "weighted avg       0.93      0.92      0.91    444618\n",
      "\n"
     ]
    }
   ],
   "source": [
    "print(classification_report(y_test, y_pred))"
   ]
  },
  {
   "cell_type": "code",
   "execution_count": 19,
   "metadata": {},
   "outputs": [
    {
     "name": "stdout",
     "output_type": "stream",
     "text": [
      "[[376169     17]\n",
      " [ 34948  33484]]\n"
     ]
    }
   ],
   "source": [
    "print(confusion_matrix(y_test, y_pred))"
   ]
  },
  {
   "cell_type": "code",
   "execution_count": null,
   "metadata": {},
   "outputs": [],
   "source": []
  }
 ],
 "metadata": {
  "interpreter": {
   "hash": "9cedc55b3cbf3c6d99ff990673a8ddd4523edd6f7760ad30a6f7807a45845135"
  },
  "kernelspec": {
   "display_name": "Python 3.8.11 64-bit ('geo': conda)",
   "language": "python",
   "name": "python3"
  },
  "language_info": {
   "codemirror_mode": {
    "name": "ipython",
    "version": 3
   },
   "file_extension": ".py",
   "mimetype": "text/x-python",
   "name": "python",
   "nbconvert_exporter": "python",
   "pygments_lexer": "ipython3",
   "version": "3.8.11"
  },
  "orig_nbformat": 4
 },
 "nbformat": 4,
 "nbformat_minor": 2
}
