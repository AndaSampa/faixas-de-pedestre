{
 "cells": [
  {
   "cell_type": "markdown",
   "metadata": {},
   "source": [
    "# Treinando os modelos"
   ]
  },
  {
   "cell_type": "code",
   "execution_count": 1,
   "metadata": {},
   "outputs": [],
   "source": [
    "import pandas as pd\n",
    "import numpy as np\n",
    "from sklearn.model_selection import train_test_split\n",
    "import glob"
   ]
  },
  {
   "cell_type": "code",
   "execution_count": 2,
   "metadata": {},
   "outputs": [],
   "source": [
    "scm_licoes = pd.read_csv('downloads/imagens/SCMs-licoes.csv')\n",
    "licoes_utilizadas = scm_licoes.loc[scm_licoes[\"presente\"] == 1, 'scm']\n",
    "tamanho_janela = 24 # tamanho em pixels"
   ]
  },
  {
   "cell_type": "code",
   "execution_count": 3,
   "metadata": {},
   "outputs": [],
   "source": [
    "for s in licoes_utilizadas.tolist():\n",
    "    X, y = np.load(f'pre-process/data/data-{s}.npy'), np.load(f'pre-process/data/target-{s}.npy')\n",
    "    X_train, X_test, y_train, y_test = train_test_split(X, y, test_size=0.30,random_state=13, stratify=y)\n",
    "\n",
    "    data, target = [], []\n",
    "\n",
    "    # print(X_train.shape)\n",
    "    # print(np.count_nonzero(y_train))\n",
    "\n",
    "    img_gray = X_train[y_train == 1][:, :tamanho_janela ** 2].reshape(-1, tamanho_janela, tamanho_janela)\n",
    "    img_hog = X_train[y_train == 1][:, tamanho_janela ** 2:2 * tamanho_janela ** 2].reshape(-1, tamanho_janela, tamanho_janela)\n",
    "    img_lbp = X_train[y_train == 1][:, 2 * tamanho_janela ** 2:].reshape(-1, tamanho_janela, tamanho_janela)\n",
    "\n",
    "    img = np.stack([\n",
    "            img_gray.reshape(-1, tamanho_janela ** 2),\n",
    "            img_hog.reshape(-1, tamanho_janela ** 2),\n",
    "            img_lbp.reshape(-1, tamanho_janela ** 2)\n",
    "        ], axis=1).reshape(-1, 3 * (tamanho_janela ** 2))\n",
    "\n",
    "\n",
    "    for r in ['rotaciona 0', 'rotaciona 90', 'rotaciona 180', 'rotaciona 270']:\n",
    "        \n",
    "        # flip Up/Down\n",
    "\n",
    "        img_flipud = np.stack([\n",
    "            np.flip(img_gray, axis=1).reshape(-1, tamanho_janela ** 2),\n",
    "            np.flip(img_hog, axis=1).reshape(-1, tamanho_janela ** 2),\n",
    "            np.flip(img_lbp, axis=1).reshape(-1, tamanho_janela ** 2)\n",
    "        ], axis=1).reshape(-1, 3 * (tamanho_janela ** 2))\n",
    "\n",
    "        # flip Left/Right\n",
    "\n",
    "        img_fliplr = np.concatenate([\n",
    "            np.flip(img_gray, axis=2).reshape(-1, tamanho_janela ** 2),\n",
    "            np.flip(img_hog, axis=2).reshape(-1, tamanho_janela ** 2),\n",
    "            np.flip(img_lbp, axis=2).reshape(-1, tamanho_janela ** 2)\n",
    "        ], axis=1).reshape(-1, 3 * (tamanho_janela ** 2))\n",
    "\n",
    "        # flip\n",
    "\n",
    "        img_flip = np.concatenate([\n",
    "            np.flip(np.flip(img_gray, axis=1), axis=2).reshape(-1, tamanho_janela ** 2),\n",
    "            np.flip(np.flip(img_hog, axis=1), axis=2).reshape(-1, tamanho_janela ** 2),\n",
    "            np.flip(np.flip(img_lbp, axis=1), axis=2).reshape(-1, tamanho_janela ** 2)\n",
    "        ], axis=1).reshape(-1, 3 * (tamanho_janela ** 2))\n",
    "\n",
    "        for fl_img in (img, img_flipud, img_fliplr, img_flip):\n",
    "        # for fl_img in (img):\n",
    "            # print(fl_img.shape)\n",
    "            data.append(fl_img.reshape(-1, 3 * (tamanho_janela ** 2)))\n",
    "            # target.append(1)\n",
    "\n",
    "\n",
    "        img_gray, img_hog, img_lbp = np.rot90(img_gray, axes=(1,2)), np.rot90(img_hog, axes=(1,2)), np.rot90(img_lbp, axes=(1,2))\n",
    "\n",
    "    data = np.concatenate(data)\n",
    "    X_train = np.concatenate([X_train[y_train == 0], data])\n",
    "    y_data = np.ones(data.shape[0])\n",
    "    y_train = np.concatenate([y_train[y_train == 0], y_data])\n",
    "\n",
    "    np.save(f'pre-process/data/data-{s}-train.npy', X_train)\n",
    "    np.save(f'pre-process/data/data-{s}-test.npy', X_test)\n",
    "    np.save(f'pre-process/data/target-{s}-train.npy', y_train)\n",
    "    np.save(f'pre-process/data/target-{s}-test.npy', y_test)\n",
    "\n",
    "    # print(f'SCM: {s}')\n",
    "\n",
    "del X_train, X_test, y_train, y_test\n",
    "\n",
    "X_train =  np.concatenate([np.load(f'pre-process/data/data-{s}-train.npy') for s in licoes_utilizadas.tolist()])\n",
    "y_train =  np.concatenate([np.load(f'pre-process/data/target-{s}-train.npy') for s in licoes_utilizadas.tolist()])"
   ]
  },
  {
   "cell_type": "code",
   "execution_count": 4,
   "metadata": {},
   "outputs": [
    {
     "data": {
      "text/plain": [
       "((218751, 1728), (218751,))"
      ]
     },
     "execution_count": 4,
     "metadata": {},
     "output_type": "execute_result"
    }
   ],
   "source": [
    "X_train.shape, y_train.shape"
   ]
  },
  {
   "cell_type": "code",
   "execution_count": 5,
   "metadata": {},
   "outputs": [
    {
     "data": {
      "text/plain": [
       "160896"
      ]
     },
     "execution_count": 5,
     "metadata": {},
     "output_type": "execute_result"
    }
   ],
   "source": [
    "np.count_nonzero(y_train)"
   ]
  },
  {
   "cell_type": "code",
   "execution_count": 6,
   "metadata": {},
   "outputs": [],
   "source": [
    "## Opção utilizando um percentual de SCMs como treinamento e outro como teste\n",
    "\n",
    "# scm_train = licoes_utilizadas.sample(frac=0.5, random_state=13)\n",
    "# scm_test = licoes_utilizadas[~licoes_utilizadas.isin(scm_train)]\n",
    "\n",
    "# # scm_train.tolist()\n",
    "\n",
    "# X_train =  np.concatenate([np.load(f'pre-process/data/data-{s}.npy') for s in scm_train.tolist()])\n",
    "# y_train =  np.concatenate([np.load(f'pre-process/data/target-{s}.npy') for s in scm_train.tolist()])"
   ]
  },
  {
   "cell_type": "markdown",
   "metadata": {},
   "source": [
    "## Treinando modelo Random Forest"
   ]
  },
  {
   "cell_type": "code",
   "execution_count": 7,
   "metadata": {},
   "outputs": [
    {
     "name": "stderr",
     "output_type": "stream",
     "text": [
      "Intel(R) Extension for Scikit-learn* enabled (https://github.com/intel/scikit-learn-intelex)\n"
     ]
    }
   ],
   "source": [
    "from sklearn.ensemble import RandomForestClassifier, AdaBoostClassifier\n",
    "from sklearn.kernel_approximation import RBFSampler\n",
    "from sklearn.linear_model import SGDClassifier\n",
    "from sklearn.svm import SVC, LinearSVC\n",
    "from sklearn.neighbors import KNeighborsClassifier\n",
    "from sklearn.linear_model import LogisticRegression\n",
    "from sklearn.tree import DecisionTreeClassifier\n",
    "from sklearn.neural_network import MLPClassifier\n",
    "from sklearnex import patch_sklearn\n",
    "patch_sklearn()\n",
    "\n",
    "# rbf_feature = RBFSampler(gamma=1, random_state=1)\n",
    "# X_train = rbf_feature.fit_transform(X_train)\n",
    "# clf = SGDClassifier(n_jobs=7, verbose=6, max_iter=5000)\n",
    "\n",
    "# clf = MLPClassifier(max_iter=300, activation='relu', verbose=True, learning_rate='adaptive') # 46 minutos, acuracia de 94%, recall acima de 94%\n",
    "# clf = SVC(gamma='auto', probability=False, verbose=True)\n",
    "# clf = LinearSVC(verbose=9)\n",
    "# clf = DecisionTreeClassifier()# ruim, acuracia abaixo de 82%\n",
    "# clf = KNeighborsClassifier(n_jobs=7) # 1 min <-- .95,7 com recall de .93\n",
    "clf = KNeighborsClassifier(n_jobs=7, weights='distance')\n",
    "# clf = AdaBoostClassifier() # \n",
    "# clf = RandomForestClassifier(n_estimators=100, n_jobs=7, verbose=6) # Acur. de 89%, ruim\n",
    "# clf = SGDClassifier(n_jobs=7, verbose=6, max_iter=5000)# ruim, acc. abaixo de 80%"
   ]
  },
  {
   "cell_type": "code",
   "execution_count": 8,
   "metadata": {},
   "outputs": [
    {
     "data": {
      "text/plain": [
       "(218751, 1728)"
      ]
     },
     "execution_count": 8,
     "metadata": {},
     "output_type": "execute_result"
    }
   ],
   "source": [
    "X_train.shape"
   ]
  },
  {
   "cell_type": "code",
   "execution_count": 9,
   "metadata": {},
   "outputs": [
    {
     "data": {
      "text/plain": [
       "KNeighborsClassifier(n_jobs=7, weights='distance')"
      ]
     },
     "execution_count": 9,
     "metadata": {},
     "output_type": "execute_result"
    }
   ],
   "source": [
    "clf.fit(X_train, y_train)"
   ]
  },
  {
   "cell_type": "code",
   "execution_count": 10,
   "metadata": {},
   "outputs": [
    {
     "data": {
      "text/plain": [
       "KNeighborsClassifier(n_jobs=7, weights='distance')"
      ]
     },
     "execution_count": 10,
     "metadata": {},
     "output_type": "execute_result"
    }
   ],
   "source": [
    "clf"
   ]
  },
  {
   "cell_type": "code",
   "execution_count": 11,
   "metadata": {},
   "outputs": [],
   "source": [
    "# clf.score(X_train, y_train)"
   ]
  },
  {
   "cell_type": "code",
   "execution_count": 12,
   "metadata": {},
   "outputs": [],
   "source": [
    "del X_train"
   ]
  },
  {
   "cell_type": "code",
   "execution_count": 13,
   "metadata": {},
   "outputs": [],
   "source": [
    "# X_test =  np.concatenate([np.load(f'pre-process/data/data-{s}.npy') for s in scm_test.tolist()])\n",
    "# y_test =  np.concatenate([np.load(f'pre-process/data/target-{s}.npy') for s in scm_test.tolist()])"
   ]
  },
  {
   "cell_type": "code",
   "execution_count": 14,
   "metadata": {},
   "outputs": [],
   "source": [
    "X_test =  np.concatenate([np.load(f'pre-process/data/data-{s}-test.npy') for s in licoes_utilizadas.tolist()])\n",
    "y_test =  np.concatenate([np.load(f'pre-process/data/target-{s}-test.npy') for s in licoes_utilizadas.tolist()])"
   ]
  },
  {
   "cell_type": "code",
   "execution_count": null,
   "metadata": {},
   "outputs": [],
   "source": [
    "y_pred = clf.predict(X_test)"
   ]
  },
  {
   "cell_type": "code",
   "execution_count": null,
   "metadata": {},
   "outputs": [],
   "source": [
    "from sklearn import metrics\n",
    "from sklearn.metrics import classification_report\n",
    "from sklearn.metrics import confusion_matrix"
   ]
  },
  {
   "cell_type": "code",
   "execution_count": null,
   "metadata": {},
   "outputs": [
    {
     "name": "stdout",
     "output_type": "stream",
     "text": [
      "Accuracy: 0.9579898323715307\n"
     ]
    }
   ],
   "source": [
    "print(\"Accuracy:\",metrics.accuracy_score(y_test, y_pred))"
   ]
  },
  {
   "cell_type": "code",
   "execution_count": null,
   "metadata": {},
   "outputs": [
    {
     "name": "stdout",
     "output_type": "stream",
     "text": [
      "              precision    recall  f1-score   support\n",
      "\n",
      "           0       0.99      0.96      0.98     24801\n",
      "           1       0.81      0.93      0.87      4311\n",
      "\n",
      "    accuracy                           0.96     29112\n",
      "   macro avg       0.90      0.95      0.92     29112\n",
      "weighted avg       0.96      0.96      0.96     29112\n",
      "\n"
     ]
    }
   ],
   "source": [
    "print(classification_report(y_test, y_pred))"
   ]
  },
  {
   "cell_type": "code",
   "execution_count": null,
   "metadata": {},
   "outputs": [
    {
     "name": "stdout",
     "output_type": "stream",
     "text": [
      "[[23880   921]\n",
      " [  302  4009]]\n"
     ]
    }
   ],
   "source": [
    "print(confusion_matrix(y_test, y_pred))"
   ]
  },
  {
   "cell_type": "markdown",
   "metadata": {},
   "source": [
    "## Salvando o modelo para usa-lo nas inferências"
   ]
  },
  {
   "cell_type": "code",
   "execution_count": null,
   "metadata": {},
   "outputs": [],
   "source": [
    "import joblib"
   ]
  },
  {
   "cell_type": "code",
   "execution_count": null,
   "metadata": {},
   "outputs": [
    {
     "ename": "NameError",
     "evalue": "name 'clf' is not defined",
     "output_type": "error",
     "traceback": [
      "\u001b[0;31m---------------------------------------------------------------------------\u001b[0m",
      "\u001b[0;31mNameError\u001b[0m                                 Traceback (most recent call last)",
      "\u001b[0;32m<ipython-input-3-dc162bbebac1>\u001b[0m in \u001b[0;36m<module>\u001b[0;34m\u001b[0m\n\u001b[0;32m----> 1\u001b[0;31m \u001b[0mjoblib\u001b[0m\u001b[0;34m.\u001b[0m\u001b[0mdump\u001b[0m\u001b[0;34m(\u001b[0m\u001b[0mclf\u001b[0m\u001b[0;34m,\u001b[0m \u001b[0;34m'resultados/modelos-treinados/KNC-faixas-pedestre.pkl'\u001b[0m\u001b[0;34m)\u001b[0m\u001b[0;34m\u001b[0m\u001b[0;34m\u001b[0m\u001b[0m\n\u001b[0m",
      "\u001b[0;31mNameError\u001b[0m: name 'clf' is not defined"
     ]
    }
   ],
   "source": [
    "joblib.dump(clf, 'resultados/modelos-treinados/KNC-faixas-pedestre.pkl')"
   ]
  },
  {
   "cell_type": "code",
   "execution_count": null,
   "metadata": {},
   "outputs": [],
   "source": []
  },
  {
   "cell_type": "code",
   "execution_count": null,
   "metadata": {},
   "outputs": [],
   "source": []
  },
  {
   "cell_type": "code",
   "execution_count": null,
   "metadata": {},
   "outputs": [],
   "source": []
  },
  {
   "cell_type": "code",
   "execution_count": null,
   "metadata": {},
   "outputs": [],
   "source": []
  },
  {
   "cell_type": "code",
   "execution_count": null,
   "metadata": {},
   "outputs": [],
   "source": []
  }
 ],
 "metadata": {
  "interpreter": {
   "hash": "9cedc55b3cbf3c6d99ff990673a8ddd4523edd6f7760ad30a6f7807a45845135"
  },
  "kernelspec": {
   "display_name": "Python 3.8.11 64-bit ('geo': conda)",
   "language": "python",
   "name": "python3"
  },
  "language_info": {
   "codemirror_mode": {
    "name": "ipython",
    "version": 3
   },
   "file_extension": ".py",
   "mimetype": "text/x-python",
   "name": "python",
   "nbconvert_exporter": "python",
   "pygments_lexer": "ipython3",
   "version": "3.8.11"
  },
  "orig_nbformat": 4
 },
 "nbformat": 4,
 "nbformat_minor": 2
}
