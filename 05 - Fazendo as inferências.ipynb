{
 "cells": [
  {
   "cell_type": "markdown",
   "metadata": {},
   "source": [
    "# Fazendo as inferências nas imagens"
   ]
  },
  {
   "cell_type": "code",
   "execution_count": 1,
   "metadata": {},
   "outputs": [],
   "source": [
    "# Tentar rodar em paralelo - OK\n",
    "# Abrir a imagem - OK\n",
    "# gerando GrayScale - OK\n",
    "# aplicar Scaler - OK\n",
    "# gerar Filtro de Sobel - OK\n",
    "# aplicar Scaler ao Sobel - OK\n",
    "# gerar LBP - OK\n",
    "# aplicar Scaler no LBP - OK\n",
    "# separar as quadriculas\n",
    "# aplicar PCA\n",
    "# Inferir se é faixa de pedestre    \n",
    "# salvar imagem 1bit por SCM\n",
    "\n",
    "## DEpois gerando dados\n",
    "\n",
    "# agrupar em uma única imagem para toda a ciade\n",
    "# agrupar dbScan\n",
    "# gerar polígonos\n",
    "# gerar linhas"
   ]
  },
  {
   "cell_type": "code",
   "execution_count": 52,
   "metadata": {},
   "outputs": [],
   "source": [
    "import multiprocessing as mp\n",
    "import geopandas as gpd\n",
    "import rasterio\n",
    "from rasterio import features\n",
    "import numpy as np\n",
    "import glob\n",
    "import joblib\n",
    "from skimage import filters\n",
    "from skimage.feature import local_binary_pattern\n",
    "from sklearn.preprocessing import StandardScaler, MinMaxScaler"
   ]
  },
  {
   "cell_type": "code",
   "execution_count": 3,
   "metadata": {},
   "outputs": [],
   "source": [
    "gdf_scms = gpd.read_file('downloads/SIRGAS_SHP_quadriculaortofoto2017.zip!SIRGAS_SHP_quadriculaortofoto2017/SIRGAS_SHP_quadriculaortofoto2017.shp')"
   ]
  },
  {
   "cell_type": "code",
   "execution_count": 4,
   "metadata": {},
   "outputs": [],
   "source": [
    "n_cpu = mp.cpu_count() - 1\n",
    "# pool = mp.Pool(processes=n_cpu)\n"
   ]
  },
  {
   "cell_type": "code",
   "execution_count": 17,
   "metadata": {},
   "outputs": [],
   "source": [
    "sample =  gdf_scms[2:17]['qo2010_cod'].to_list()"
   ]
  },
  {
   "cell_type": "code",
   "execution_count": 43,
   "metadata": {},
   "outputs": [
    {
     "data": {
      "text/plain": [
       "15"
      ]
     },
     "execution_count": 43,
     "metadata": {},
     "output_type": "execute_result"
    }
   ],
   "source": [
    "len(sample)"
   ]
  },
  {
   "cell_type": "code",
   "execution_count": 51,
   "metadata": {},
   "outputs": [],
   "source": [
    "grayscale_scaler = joblib.load('pre-process/grayscale.scaler.save')\n",
    "sobel_scaler = joblib.load('pre-process/sobel.scaler.save') \n",
    "lbp_scaler = joblib.load('pre-process/lbp.scaler.save')"
   ]
  },
  {
   "cell_type": "code",
   "execution_count": 53,
   "metadata": {},
   "outputs": [],
   "source": [
    "radius = 3\n",
    "n_points = 8 * radius\n",
    "tamanho_janela = 24 # tamanho em pixels\n",
    "sobreposicao_de_janelas = 12 # sobreposição das janelas em pixels"
   ]
  },
  {
   "cell_type": "code",
   "execution_count": 54,
   "metadata": {},
   "outputs": [],
   "source": [
    "def faixas(scm):\n",
    "    file = glob.glob(f'../ortofotos-2017/RGB-2017/*{scm}*.jp2')\n",
    "    dataset = rasterio.open(file[0])\n",
    "\n",
    "    grayscale = 0.2125 * dataset.read(1) + \\\n",
    "            0.7154 * dataset.read(2) + \\\n",
    "            0.0721 * dataset.read(3)\n",
    "    grayscale = grayscale.astype('uint8')\n",
    "\n",
    "    grayscale = grayscale_scaler.transform(grayscale.reshape(-1, 1)).reshape(grayscale.shape)\n",
    "\n",
    "    sobel = filters.sobel(grayscale)\n",
    "    sobel = sobel_scaler.transform(sobel.reshape(-1, 1)).reshape(sobel.shape)\n",
    "\n",
    "    lbp = local_binary_pattern(grayscale, n_points, radius)\n",
    "    lbp = lbp_scaler.transform(lbp.reshape(-1, 1)).reshape(lbp.shape)\n",
    "    \n",
    "    return dataset.width, dataset.height"
   ]
  },
  {
   "cell_type": "code",
   "execution_count": 55,
   "metadata": {},
   "outputs": [],
   "source": [
    "with mp.Pool(processes=n_cpu) as p:\n",
    "    p.map(faixas, sample)"
   ]
  },
  {
   "cell_type": "code",
   "execution_count": 39,
   "metadata": {},
   "outputs": [],
   "source": [
    "def f(x):\n",
    "    return x*x\n",
    "\n",
    "with mp.Pool(5) as p:\n",
    "    print(p.map(f, np.arange(100000)))"
   ]
  },
  {
   "cell_type": "code",
   "execution_count": null,
   "metadata": {},
   "outputs": [],
   "source": []
  }
 ],
 "metadata": {
  "interpreter": {
   "hash": "9cedc55b3cbf3c6d99ff990673a8ddd4523edd6f7760ad30a6f7807a45845135"
  },
  "kernelspec": {
   "display_name": "Python 3.8.11 64-bit ('geo': conda)",
   "language": "python",
   "name": "python3"
  },
  "language_info": {
   "codemirror_mode": {
    "name": "ipython",
    "version": 3
   },
   "file_extension": ".py",
   "mimetype": "text/x-python",
   "name": "python",
   "nbconvert_exporter": "python",
   "pygments_lexer": "ipython3",
   "version": "3.8.11"
  },
  "orig_nbformat": 4
 },
 "nbformat": 4,
 "nbformat_minor": 2
}
