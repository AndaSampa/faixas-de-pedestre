{
 "cells": [
  {
   "cell_type": "markdown",
   "metadata": {},
   "source": [
    "# Fazendo as inferências nas imagens"
   ]
  },
  {
   "cell_type": "code",
   "execution_count": 1,
   "metadata": {},
   "outputs": [],
   "source": [
    "# Tentar rodar em paralelo - OK\n",
    "# Abrir a imagem - OK\n",
    "# gerando GrayScale - OK\n",
    "# aplicar Scaler - OK\n",
    "# gerar Filtro de Sobel - OK\n",
    "# aplicar Scaler ao Sobel - OK\n",
    "# gerar LBP - OK\n",
    "# aplicar Scaler no LBP - OK\n",
    "# separar as quadriculas - OK\n",
    "# aplicar PCA - OK\n",
    "# Inferir se é faixa de pedestre - OK\n",
    "# salvar imagem 1bit por SCM\n",
    "\n",
    "## DEpois gerando dados\n",
    "\n",
    "# agrupar em uma única imagem para toda a ciade\n",
    "# agrupar dbScan\n",
    "# gerar polígonos\n",
    "# gerar linhas"
   ]
  },
  {
   "cell_type": "code",
   "execution_count": 26,
   "metadata": {},
   "outputs": [
    {
     "name": "stderr",
     "output_type": "stream",
     "text": [
      "Intel(R) Extension for Scikit-learn* enabled (https://github.com/intel/scikit-learn-intelex)\n"
     ]
    }
   ],
   "source": [
    "import multiprocessing as mp\n",
    "import geopandas as gpd\n",
    "from sklearnex import patch_sklearn\n",
    "patch_sklearn()\n",
    "import rasterio\n",
    "from rasterio import features\n",
    "from rasterio.enums import Resampling\n",
    "import numpy as np\n",
    "import glob\n",
    "import joblib\n",
    "from skimage import filters\n",
    "from skimage.feature import local_binary_pattern\n",
    "from sklearn.preprocessing import StandardScaler, MinMaxScaler\n",
    "import geopandas as gpd\n",
    "from shapely.geometry import box\n",
    "from sklearn.svm import SVC\n"
   ]
  },
  {
   "cell_type": "code",
   "execution_count": 3,
   "metadata": {},
   "outputs": [],
   "source": [
    "gdf_scms = gpd.read_file('downloads/SIRGAS_SHP_quadriculaortofoto2017.zip!SIRGAS_SHP_quadriculaortofoto2017/SIRGAS_SHP_quadriculaortofoto2017.shp')"
   ]
  },
  {
   "cell_type": "code",
   "execution_count": 4,
   "metadata": {},
   "outputs": [],
   "source": [
    "n_cpu = mp.cpu_count() - 1"
   ]
  },
  {
   "cell_type": "code",
   "execution_count": 5,
   "metadata": {},
   "outputs": [],
   "source": [
    "sample =  gdf_scms[2:17]['qo2010_cod'].to_list()"
   ]
  },
  {
   "cell_type": "code",
   "execution_count": 6,
   "metadata": {},
   "outputs": [
    {
     "data": {
      "text/plain": [
       "15"
      ]
     },
     "execution_count": 6,
     "metadata": {},
     "output_type": "execute_result"
    }
   ],
   "source": [
    "len(sample)"
   ]
  },
  {
   "cell_type": "code",
   "execution_count": 7,
   "metadata": {},
   "outputs": [
    {
     "data": {
      "text/plain": [
       "['3335-313',\n",
       " '2346-434',\n",
       " '3336-313',\n",
       " '3335-434',\n",
       " '3335-433',\n",
       " '3335-424',\n",
       " '3335-423',\n",
       " '3335-414',\n",
       " '3335-413',\n",
       " '3335-334',\n",
       " '3335-333',\n",
       " '3335-324',\n",
       " '3335-323',\n",
       " '3335-314',\n",
       " '2346-423']"
      ]
     },
     "execution_count": 7,
     "metadata": {},
     "output_type": "execute_result"
    }
   ],
   "source": [
    "sample"
   ]
  },
  {
   "cell_type": "code",
   "execution_count": 8,
   "metadata": {},
   "outputs": [],
   "source": [
    "radius = 3\n",
    "n_points = 8 * radius\n",
    "tamanho_janela = 24 # tamanho em pixels\n",
    "sobreposicao_de_janelas = 12 # sobreposição das janelas em pixels"
   ]
  },
  {
   "cell_type": "code",
   "execution_count": 9,
   "metadata": {},
   "outputs": [],
   "source": [
    "gdf_quadras = gpd.read_file('zip://downloads/SIRGAS_SHP_quadraMDSF.zip!/SIRGAS_SHP_quadraMDSF/SIRGAS_SHP_quadraMDSF.shp')"
   ]
  },
  {
   "cell_type": "code",
   "execution_count": 10,
   "metadata": {},
   "outputs": [],
   "source": [
    "grayscale_scaler = joblib.load('pre-process/grayscale.scaler.save')\n",
    "sobel_scaler = joblib.load('pre-process/sobel.scaler.save') \n",
    "lbp_scaler = joblib.load('pre-process/lbp.scaler.save')"
   ]
  },
  {
   "cell_type": "code",
   "execution_count": 11,
   "metadata": {},
   "outputs": [],
   "source": [
    "pca = joblib.load('resultados/modelos-treinados/PCA-faixas-pedestre.pkl')"
   ]
  },
  {
   "cell_type": "code",
   "execution_count": 12,
   "metadata": {},
   "outputs": [],
   "source": [
    "clf = joblib.load('resultados/modelos-treinados/SVC-faixas-pedestre.pkl')"
   ]
  },
  {
   "cell_type": "code",
   "execution_count": 38,
   "metadata": {},
   "outputs": [],
   "source": [
    "def faixas(scm):\n",
    "    file = glob.glob(f'../ortofotos-2017/RGB-2017/*{scm}*.jp2')\n",
    "    dataset = rasterio.open(file[0])\n",
    "    data, location = [], []\n",
    "\n",
    "    grayscale = 0.2125 * dataset.read(1) + \\\n",
    "            0.7154 * dataset.read(2) + \\\n",
    "            0.0721 * dataset.read(3)\n",
    "    grayscale_uint = grayscale.astype('uint8')\n",
    "\n",
    "    grayscale = grayscale_scaler.transform(grayscale_uint.reshape(-1, 1)).reshape(grayscale_uint.shape).astype('float32')\n",
    "\n",
    "    # with rasterio.open(\n",
    "    #     f'resultados/raster/grayscale-{scm}.jp2', 'w',\n",
    "    #     driver='GTiff',\n",
    "    #     dtype=rasterio.float32,\n",
    "    #     count=1,\n",
    "    #     width=dataset.width,\n",
    "    #     height=dataset.height,\n",
    "    #     transform=dataset.transform,\n",
    "    #     crs = rasterio.crs.CRS.from_string('EPSG:31983')) as dst:\n",
    "    #     dst.write(grayscale, indexes=1)\n",
    "\n",
    "    sobel = filters.sobel(grayscale_uint).astype('float32')\n",
    "    sobel = sobel_scaler.transform(sobel.reshape(-1, 1)).reshape(sobel.shape)\n",
    "\n",
    "    # with rasterio.open(\n",
    "    #     f'resultados/raster/sobel-{scm}.jp2', 'w',\n",
    "    #     driver='GTiff',\n",
    "    #     dtype=rasterio.float32,\n",
    "    #     count=1,\n",
    "    #     width=dataset.width,\n",
    "    #     height=dataset.height,\n",
    "    #     transform=dataset.transform,\n",
    "    #     crs = rasterio.crs.CRS.from_string('EPSG:31983')) as dst:\n",
    "    #     dst.write(sobel, indexes=1)\n",
    "\n",
    "    lbp = local_binary_pattern(grayscale_uint, n_points, radius).astype('float32')\n",
    "    lbp = lbp_scaler.transform(lbp.reshape(-1, 1)).reshape(lbp.shape)\n",
    "\n",
    "    # with rasterio.open(\n",
    "    #     f'resultados/raster/lbp-{scm}.jp2', 'w',\n",
    "    #     driver='GTiff',\n",
    "    #     dtype=rasterio.float32,\n",
    "    #     count=1,\n",
    "    #     width=dataset.width,\n",
    "    #     height=dataset.height,\n",
    "    #     transform=dataset.transform,\n",
    "    #     crs = rasterio.crs.CRS.from_string('EPSG:31983')) as dst:\n",
    "    #     dst.write(lbp, indexes=1)\n",
    "\n",
    "    quadras_scm = gpd.clip(gdf_quadras, gpd.GeoSeries(box(*dataset.bounds))).unary_union\n",
    "\n",
    "    quadras = features.rasterize(\n",
    "        ((g, 255) for g in quadras_scm),\n",
    "        out_shape=dataset.shape,\n",
    "        transform=dataset.transform)\n",
    "\n",
    "    for i in np.arange(0, grayscale.shape[0] - tamanho_janela, tamanho_janela - sobreposicao_de_janelas):\n",
    "        for j in np.arange(0, grayscale.shape[1] - tamanho_janela, tamanho_janela - sobreposicao_de_janelas):\n",
    "            # Se mais de 98% dos pixels estiverem fora da quadra\n",
    "            if np.count_nonzero(quadras[i:i+tamanho_janela, j:j+tamanho_janela] == 255) < 0.02 * (tamanho_janela ** 2):\n",
    "                # print(i, j)\n",
    "                img_gray = grayscale[i:i+tamanho_janela, j:j+tamanho_janela]\n",
    "                img_sobel = sobel[i:i+tamanho_janela, j:j+tamanho_janela]\n",
    "                img_lbp = lbp[i:i+tamanho_janela, j:j+tamanho_janela]\n",
    "                \n",
    "                img = np.concatenate([\n",
    "                    img_gray,\n",
    "                    img_sobel,\n",
    "                    img_lbp\n",
    "                ]).reshape(1, 3 * (tamanho_janela ** 2))\n",
    "        \n",
    "                data.append(img.reshape(1, 3 * (tamanho_janela ** 2)))\n",
    "                location.append([i, j])\n",
    "\n",
    "    np_data = np.array(data).squeeze()\n",
    "    np_data = pca.transform(np_data)\n",
    "\n",
    "    y = clf.predict(np_data)\n",
    "\n",
    "    matrix = np.zeros([dataset.height, dataset.width], dtype='uint8')\n",
    "\n",
    "    for i, l in enumerate(location):\n",
    "        matrix[l[0]:l[0] + tamanho_janela, l[1]:l[1] + tamanho_janela] = y[i]\n",
    "\n",
    "    profile = dataset.profile\n",
    "    profile['count'] = 1\n",
    "    \n",
    "    with rasterio.open(f'resultados/raster/faixas-{scm}.jp2', 'w', nbits=1, **profile) as dst:\n",
    "        dst.write(matrix, indexes=1)\n",
    "\n",
    "    # with rasterio.open(f'resultados/raster/faixas-{scm}.jp2') as dst:\n",
    "\n",
    "    #     # resample data to target shape\n",
    "    #     data = dst.read(\n",
    "    #         out_shape=(\n",
    "    #             dst.count,\n",
    "    #             int(dst.height / tamanho_janela),\n",
    "    #             int(dst.width / tamanho_janela)\n",
    "    #         ),\n",
    "    #         resampling=Resampling.bilinear\n",
    "    #     )\n",
    "\n",
    "    #     # scale image transform\n",
    "    #     transform = dst.transform * dst.transform.scale(\n",
    "    #         (dst.width / data.shape[-1]),\n",
    "    #         (dst.height / data.shape[-2])\n",
    "    #     )\n",
    "        \n",
    "    #     profile = dst.profile\n",
    "    #     profile['nodata'] = '0'\n",
    "    #     profile['dtype'] = 'uint8'\n",
    "    #     profile['transform'] = transform\n",
    "    #     profile['width'] = int(dst.width / tamanho_janela)\n",
    "    #     profile['height'] = int(dst.height / tamanho_janela)\n",
    "\n",
    "    #     with rasterio.open(f'resultados/raster/faixas-{scm}-288cm.jp2', 'w', **profile) as dataset:\n",
    "    #         dataset.write(np.squeeze(data), 1)\n",
    "\n",
    "    return profile"
   ]
  },
  {
   "cell_type": "code",
   "execution_count": 28,
   "metadata": {},
   "outputs": [],
   "source": [
    "# y, location, data = faixas('3313-432')\n",
    "# faixas('3314-414')"
   ]
  },
  {
   "cell_type": "code",
   "execution_count": 29,
   "metadata": {},
   "outputs": [],
   "source": [
    "# with mp.Pool(processes=n_cpu) as p:\n",
    "#     p.map(faixas, sample)"
   ]
  },
  {
   "cell_type": "markdown",
   "metadata": {},
   "source": [
    "## Processando um distrito inteiro"
   ]
  },
  {
   "cell_type": "code",
   "execution_count": 30,
   "metadata": {},
   "outputs": [],
   "source": [
    "gdf_distritos = gpd.read_file('downloads/SIRGAS_GPKG_distrito.gpkg')"
   ]
  },
  {
   "cell_type": "code",
   "execution_count": 31,
   "metadata": {},
   "outputs": [],
   "source": [
    "dist = gdf_distritos[gdf_distritos.ds_codigo == '90']"
   ]
  },
  {
   "cell_type": "code",
   "execution_count": 32,
   "metadata": {},
   "outputs": [
    {
     "data": {
      "text/html": [
       "<div>\n",
       "<style scoped>\n",
       "    .dataframe tbody tr th:only-of-type {\n",
       "        vertical-align: middle;\n",
       "    }\n",
       "\n",
       "    .dataframe tbody tr th {\n",
       "        vertical-align: top;\n",
       "    }\n",
       "\n",
       "    .dataframe thead th {\n",
       "        text-align: right;\n",
       "    }\n",
       "</style>\n",
       "<table border=\"1\" class=\"dataframe\">\n",
       "  <thead>\n",
       "    <tr style=\"text-align: right;\">\n",
       "      <th></th>\n",
       "      <th>ds_codigo</th>\n",
       "      <th>ds_subpref</th>\n",
       "      <th>ds_cd_sub</th>\n",
       "      <th>ds_sigla</th>\n",
       "      <th>ds_nome</th>\n",
       "      <th>geometry</th>\n",
       "    </tr>\n",
       "  </thead>\n",
       "  <tbody>\n",
       "    <tr>\n",
       "      <th>77</th>\n",
       "      <td>90</td>\n",
       "      <td>VILA MARIANA</td>\n",
       "      <td>12</td>\n",
       "      <td>VMN</td>\n",
       "      <td>VILA MARIANA</td>\n",
       "      <td>POLYGON ((332359.740 7389124.109, 332309.630 7...</td>\n",
       "    </tr>\n",
       "  </tbody>\n",
       "</table>\n",
       "</div>"
      ],
      "text/plain": [
       "   ds_codigo    ds_subpref ds_cd_sub ds_sigla       ds_nome  \\\n",
       "77        90  VILA MARIANA        12      VMN  VILA MARIANA   \n",
       "\n",
       "                                             geometry  \n",
       "77  POLYGON ((332359.740 7389124.109, 332309.630 7...  "
      ]
     },
     "execution_count": 32,
     "metadata": {},
     "output_type": "execute_result"
    }
   ],
   "source": [
    "dist"
   ]
  },
  {
   "cell_type": "code",
   "execution_count": 39,
   "metadata": {},
   "outputs": [
    {
     "name": "stdout",
     "output_type": "stream",
     "text": [
      "Processando SCM: 3314-423\n"
     ]
    },
    {
     "name": "stderr",
     "output_type": "stream",
     "text": [
      "WARNING:rasterio._env:CPLE_NotSupported in driver JP2OpenJPEG does not support creation option TILED\n"
     ]
    },
    {
     "name": "stdout",
     "output_type": "stream",
     "text": [
      "{'driver': 'JP2OpenJPEG', 'dtype': 'uint8', 'nodata': '0', 'width': 188, 'height': 203, 'count': 1, 'crs': CRS.from_epsg(31983), 'transform': Affine(2.8844680851063833, 0.0, 332028.27398663433,\n",
      "       0.0, -2.891231527093596, 7392676.151007751), 'blockxsize': 1024, 'blockysize': 1024, 'tiled': True}\n"
     ]
    }
   ],
   "source": [
    "for scm in gdf_scms[gdf_scms.intersects(dist.geometry.values[0])]['qo2010_cod'].to_list():\n",
    "    print(f'Processando SCM: {scm}')\n",
    "    print(faixas(scm))"
   ]
  },
  {
   "cell_type": "code",
   "execution_count": null,
   "metadata": {},
   "outputs": [],
   "source": []
  },
  {
   "cell_type": "code",
   "execution_count": null,
   "metadata": {},
   "outputs": [],
   "source": []
  },
  {
   "cell_type": "code",
   "execution_count": null,
   "metadata": {},
   "outputs": [],
   "source": []
  },
  {
   "cell_type": "code",
   "execution_count": null,
   "metadata": {},
   "outputs": [],
   "source": []
  },
  {
   "cell_type": "code",
   "execution_count": null,
   "metadata": {},
   "outputs": [],
   "source": []
  },
  {
   "cell_type": "code",
   "execution_count": 20,
   "metadata": {},
   "outputs": [],
   "source": [
    "# seila = np.load('pre-process/data/data-3313-432.npy')"
   ]
  },
  {
   "cell_type": "code",
   "execution_count": 21,
   "metadata": {},
   "outputs": [],
   "source": [
    "# data.shape, seila.shape"
   ]
  },
  {
   "cell_type": "code",
   "execution_count": 22,
   "metadata": {},
   "outputs": [],
   "source": [
    "# seila[:, 2*tamanho_janela**2:] - data[:, 2 * tamanho_janela ** 2:]"
   ]
  },
  {
   "cell_type": "code",
   "execution_count": 23,
   "metadata": {},
   "outputs": [],
   "source": [
    "# seila.dtype"
   ]
  },
  {
   "cell_type": "code",
   "execution_count": 24,
   "metadata": {},
   "outputs": [],
   "source": [
    "# seila.shape"
   ]
  }
 ],
 "metadata": {
  "interpreter": {
   "hash": "9cedc55b3cbf3c6d99ff990673a8ddd4523edd6f7760ad30a6f7807a45845135"
  },
  "kernelspec": {
   "display_name": "Python 3.8.11 64-bit ('geo': conda)",
   "language": "python",
   "name": "python3"
  },
  "language_info": {
   "codemirror_mode": {
    "name": "ipython",
    "version": 3
   },
   "file_extension": ".py",
   "mimetype": "text/x-python",
   "name": "python",
   "nbconvert_exporter": "python",
   "pygments_lexer": "ipython3",
   "version": "3.8.11"
  },
  "orig_nbformat": 4
 },
 "nbformat": 4,
 "nbformat_minor": 2
}
