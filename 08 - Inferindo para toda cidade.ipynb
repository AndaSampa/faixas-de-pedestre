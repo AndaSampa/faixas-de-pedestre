{
 "cells": [
  {
   "cell_type": "markdown",
   "metadata": {},
   "source": [
    "# Fazendo as inferências nas imagens"
   ]
  },
  {
   "cell_type": "code",
   "execution_count": 38,
   "metadata": {},
   "outputs": [
    {
     "name": "stderr",
     "output_type": "stream",
     "text": [
      "Intel(R) Extension for Scikit-learn* enabled (https://github.com/intel/scikit-learn-intelex)\n"
     ]
    }
   ],
   "source": [
    "import multiprocessing as mp\n",
    "import geopandas as gpd\n",
    "from sklearnex import patch_sklearn\n",
    "patch_sklearn()\n",
    "import rasterio\n",
    "from rasterio import features\n",
    "from rasterio.enums import Resampling\n",
    "import numpy as np\n",
    "import glob\n",
    "import joblib\n",
    "from skimage import filters\n",
    "from skimage.feature import local_binary_pattern\n",
    "from sklearn.preprocessing import StandardScaler, MinMaxScaler\n",
    "import geopandas as gpd\n",
    "from shapely.geometry import box, MultiPolygon\n",
    "from sklearn.svm import SVC\n",
    "from os.path import exists\n"
   ]
  },
  {
   "cell_type": "code",
   "execution_count": 63,
   "metadata": {},
   "outputs": [],
   "source": [
    "gdf_scms = gpd.read_file('downloads/SIRGAS_SHP_quadriculaortofoto2017.zip!SIRGAS_SHP_quadriculaortofoto2017/SIRGAS_SHP_quadriculaortofoto2017.shp')"
   ]
  },
  {
   "cell_type": "code",
   "execution_count": 40,
   "metadata": {},
   "outputs": [],
   "source": [
    "# n_cpu = mp.cpu_count() - 1\n",
    "n_cpu = 4"
   ]
  },
  {
   "cell_type": "code",
   "execution_count": 41,
   "metadata": {},
   "outputs": [],
   "source": [
    "# sample =  gdf_scms[2:17]['qo2010_cod'].to_list()"
   ]
  },
  {
   "cell_type": "code",
   "execution_count": 42,
   "metadata": {},
   "outputs": [],
   "source": [
    "# len(sample)"
   ]
  },
  {
   "cell_type": "code",
   "execution_count": 43,
   "metadata": {},
   "outputs": [],
   "source": [
    "# sample"
   ]
  },
  {
   "cell_type": "code",
   "execution_count": 44,
   "metadata": {},
   "outputs": [],
   "source": [
    "radius = 3\n",
    "n_points = 8 * radius\n",
    "tamanho_janela = 24 # tamanho em pixels\n",
    "sobreposicao_de_janelas = 12 # sobreposição das janelas em pixels"
   ]
  },
  {
   "cell_type": "code",
   "execution_count": 45,
   "metadata": {},
   "outputs": [],
   "source": [
    "gdf_quadras = gpd.read_file('downloads/SIRGAS_GPKG_quadraviariaed_2017.gpkg')"
   ]
  },
  {
   "cell_type": "code",
   "execution_count": 46,
   "metadata": {},
   "outputs": [
    {
     "name": "stderr",
     "output_type": "stream",
     "text": [
      "/home/feromes/miniconda3/envs/geo/lib/python3.8/site-packages/sklearn/base.py:329: UserWarning: Trying to unpickle estimator StandardScaler from version 0.24.2 when using version 1.0.2. This might lead to breaking code or invalid results. Use at your own risk. For more info please refer to:\n",
      "https://scikit-learn.org/stable/modules/model_persistence.html#security-maintainability-limitations\n",
      "  warnings.warn(\n",
      "/home/feromes/miniconda3/envs/geo/lib/python3.8/site-packages/sklearn/base.py:329: UserWarning: Trying to unpickle estimator MinMaxScaler from version 0.24.2 when using version 1.0.2. This might lead to breaking code or invalid results. Use at your own risk. For more info please refer to:\n",
      "https://scikit-learn.org/stable/modules/model_persistence.html#security-maintainability-limitations\n",
      "  warnings.warn(\n"
     ]
    }
   ],
   "source": [
    "grayscale_scaler = joblib.load('pre-process/grayscale.scaler.save')\n",
    "sobel_scaler = joblib.load('pre-process/sobel.scaler.save') \n",
    "lbp_scaler = joblib.load('pre-process/lbp.scaler.save')"
   ]
  },
  {
   "cell_type": "code",
   "execution_count": 47,
   "metadata": {},
   "outputs": [],
   "source": [
    "pca = joblib.load('resultados/modelos-treinados/PCA-faixas-pedestre.pkl')"
   ]
  },
  {
   "cell_type": "code",
   "execution_count": 48,
   "metadata": {},
   "outputs": [],
   "source": [
    "clf = joblib.load('resultados/modelos-treinados/SVC-faixas-pedestre.pkl')"
   ]
  },
  {
   "cell_type": "code",
   "execution_count": 66,
   "metadata": {},
   "outputs": [
    {
     "data": {
      "text/plain": [
       "4250"
      ]
     },
     "execution_count": 66,
     "metadata": {},
     "output_type": "execute_result"
    }
   ],
   "source": [
    "len(glob.glob(f'../ortofotos-2017/RGB-2017/**.jp2'))"
   ]
  },
  {
   "cell_type": "code",
   "execution_count": 49,
   "metadata": {},
   "outputs": [],
   "source": [
    "def faixas(scm):\n",
    "    if exists(f'resultados/raster/faixas-{scm}.jp2'):\n",
    "        return None\n",
    "    else:\n",
    "        print(scm + \" / \")\n",
    "        file = glob.glob(f'../ortofotos-2017/RGB-2017/*{scm}*.jp2')\n",
    "        dataset = rasterio.open(file[0])\n",
    "        data, location = [], []\n",
    "\n",
    "        grayscale = 0.2125 * dataset.read(1) + \\\n",
    "                0.7154 * dataset.read(2) + \\\n",
    "                0.0721 * dataset.read(3)\n",
    "        grayscale_uint = grayscale.astype('uint8')\n",
    "\n",
    "        grayscale = grayscale_scaler.transform(grayscale_uint.reshape(-1, 1)).reshape(grayscale_uint.shape).astype('float32')\n",
    "\n",
    "        sobel = filters.sobel(grayscale_uint).astype('float32')\n",
    "        sobel = sobel_scaler.transform(sobel.reshape(-1, 1)).reshape(sobel.shape)\n",
    "\n",
    "        lbp = local_binary_pattern(grayscale_uint, n_points, radius).astype('float32')\n",
    "        lbp = lbp_scaler.transform(lbp.reshape(-1, 1)).reshape(lbp.shape)\n",
    "\n",
    "        quadras_scm = gpd.clip(gdf_quadras, box(*dataset.bounds), keep_geom_type=True).unary_union\n",
    "\n",
    "        matrix = np.zeros([dataset.height, dataset.width], dtype='uint8')\n",
    "\n",
    "        profile = dataset.profile\n",
    "        profile['count'] = 1\n",
    "        del profile['tiled']\n",
    "        del profile['interleave']\n",
    "\n",
    "        if quadras_scm is None:\n",
    "            with rasterio.open(f'resultados/raster/faixas-{scm}.jp2', 'w', nbits=1, **profile) as dst:\n",
    "                dst.write(matrix, indexes=1)\n",
    "            return None\n",
    "\n",
    "        if quadras_scm.geom_type == 'Polygon':\n",
    "            quadras = features.rasterize(\n",
    "                ((g, 255) for g in [quadras_scm]),\n",
    "                out_shape=dataset.shape,\n",
    "                transform=dataset.transform)\n",
    "        else:\n",
    "            quadras = features.rasterize(\n",
    "                ((g, 255) for g in quadras_scm),\n",
    "                out_shape=dataset.shape,\n",
    "                transform=dataset.transform)\n",
    "\n",
    "        for i in np.arange(0, grayscale.shape[0] - tamanho_janela, tamanho_janela - sobreposicao_de_janelas):\n",
    "            for j in np.arange(0, grayscale.shape[1] - tamanho_janela, tamanho_janela - sobreposicao_de_janelas):\n",
    "                # Se mais de 98% dos pixels estiverem fora da quadra\n",
    "                if np.count_nonzero(quadras[i:i+tamanho_janela, j:j+tamanho_janela] == 255) < 0.02 * (tamanho_janela ** 2):\n",
    "                    # print(i, j)\n",
    "                    img_gray = grayscale[i:i+tamanho_janela, j:j+tamanho_janela]\n",
    "                    img_sobel = sobel[i:i+tamanho_janela, j:j+tamanho_janela]\n",
    "                    img_lbp = lbp[i:i+tamanho_janela, j:j+tamanho_janela]\n",
    "                    \n",
    "                    img = np.concatenate([\n",
    "                        img_gray,\n",
    "                        img_sobel,\n",
    "                        img_lbp\n",
    "                    ]).reshape(1, 3 * (tamanho_janela ** 2))\n",
    "            \n",
    "                    data.append(img.reshape(1, 3 * (tamanho_janela ** 2)))\n",
    "                    location.append([i, j])\n",
    "\n",
    "        np_data = np.array(data).squeeze()\n",
    "\n",
    "        if len(np_data) > 0:\n",
    "            # print(np_data.shape)\n",
    "            # if quadras_scm.geom_type == 'Polygon':\n",
    "            if np_data.ndim < 2:\n",
    "                np_data = pca.transform([np_data])\n",
    "            else:\n",
    "                np_data = pca.transform(np_data)\n",
    "\n",
    "            y = clf.predict(np_data)            \n",
    "\n",
    "            for i, l in enumerate(location):\n",
    "                matrix[l[0]:l[0] + tamanho_janela, l[1]:l[1] + tamanho_janela] = y[i]\n",
    "            \n",
    "            with rasterio.open(f'resultados/raster/faixas-{scm}.jp2', 'w', nbits=1, **profile) as dst:\n",
    "                dst.write(matrix, indexes=1)\n",
    "\n",
    "            return profile\n",
    "        else:\n",
    "            print(f'{scm} vazio!!')\n",
    "            with rasterio.open(f'resultados/raster/faixas-{scm}.jp2', 'w', nbits=1, **profile) as dst:\n",
    "                dst.write(matrix, indexes=1)\n",
    "            # print(profile)\n",
    "            return None"
   ]
  },
  {
   "cell_type": "code",
   "execution_count": 50,
   "metadata": {},
   "outputs": [],
   "source": [
    "# y, location, data = faixas('3313-432')\n",
    "# faixas('3335-312')"
   ]
  },
  {
   "cell_type": "code",
   "execution_count": 51,
   "metadata": {},
   "outputs": [],
   "source": [
    "# with mp.Pool(processes=n_cpu) as p:\n",
    "#     p.map(faixas, sample)"
   ]
  },
  {
   "cell_type": "markdown",
   "metadata": {},
   "source": [
    "## Processando um distrito inteiro"
   ]
  },
  {
   "cell_type": "code",
   "execution_count": 52,
   "metadata": {},
   "outputs": [],
   "source": [
    "gdf_distritos = gpd.read_file('downloads/SIRGAS_GPKG_distrito.gpkg')"
   ]
  },
  {
   "cell_type": "code",
   "execution_count": 53,
   "metadata": {},
   "outputs": [],
   "source": [
    "# dist = gdf_distritos[gdf_distritos.ds_codigo == '90']\n",
    "distritos = gdf_distritos"
   ]
  },
  {
   "cell_type": "code",
   "execution_count": 54,
   "metadata": {},
   "outputs": [
    {
     "data": {
      "text/html": [
       "<div>\n",
       "<style scoped>\n",
       "    .dataframe tbody tr th:only-of-type {\n",
       "        vertical-align: middle;\n",
       "    }\n",
       "\n",
       "    .dataframe tbody tr th {\n",
       "        vertical-align: top;\n",
       "    }\n",
       "\n",
       "    .dataframe thead th {\n",
       "        text-align: right;\n",
       "    }\n",
       "</style>\n",
       "<table border=\"1\" class=\"dataframe\">\n",
       "  <thead>\n",
       "    <tr style=\"text-align: right;\">\n",
       "      <th></th>\n",
       "      <th>ds_codigo</th>\n",
       "      <th>ds_subpref</th>\n",
       "      <th>ds_cd_sub</th>\n",
       "      <th>ds_sigla</th>\n",
       "      <th>ds_nome</th>\n",
       "      <th>geometry</th>\n",
       "    </tr>\n",
       "  </thead>\n",
       "  <tbody>\n",
       "    <tr>\n",
       "      <th>0</th>\n",
       "      <td>63</td>\n",
       "      <td>PIRITUBA-JARAGUA</td>\n",
       "      <td>02</td>\n",
       "      <td>PIR</td>\n",
       "      <td>PIRITUBA</td>\n",
       "      <td>POLYGON ((325109.668 7405122.828, 325106.786 7...</td>\n",
       "    </tr>\n",
       "    <tr>\n",
       "      <th>1</th>\n",
       "      <td>95</td>\n",
       "      <td>PIRITUBA-JARAGUA</td>\n",
       "      <td>02</td>\n",
       "      <td>SDO</td>\n",
       "      <td>SAO DOMINGOS</td>\n",
       "      <td>POLYGON ((319854.036 7402894.086, 319864.990 7...</td>\n",
       "    </tr>\n",
       "    <tr>\n",
       "      <th>2</th>\n",
       "      <td>42</td>\n",
       "      <td>PIRITUBA-JARAGUA</td>\n",
       "      <td>02</td>\n",
       "      <td>JAR</td>\n",
       "      <td>JARAGUA</td>\n",
       "      <td>POLYGON ((319172.403 7405179.204, 319174.204 7...</td>\n",
       "    </tr>\n",
       "    <tr>\n",
       "      <th>3</th>\n",
       "      <td>11</td>\n",
       "      <td>FREGUESIA-BRASILANDIA</td>\n",
       "      <td>03</td>\n",
       "      <td>BRL</td>\n",
       "      <td>BRASILANDIA</td>\n",
       "      <td>POLYGON ((324895.091 7404257.969, 324893.588 7...</td>\n",
       "    </tr>\n",
       "    <tr>\n",
       "      <th>4</th>\n",
       "      <td>29</td>\n",
       "      <td>FREGUESIA-BRASILANDIA</td>\n",
       "      <td>03</td>\n",
       "      <td>FRE</td>\n",
       "      <td>FREGUESIA DO O</td>\n",
       "      <td>POLYGON ((327469.803 7399113.522, 327449.180 7...</td>\n",
       "    </tr>\n",
       "    <tr>\n",
       "      <th>...</th>\n",
       "      <td>...</td>\n",
       "      <td>...</td>\n",
       "      <td>...</td>\n",
       "      <td>...</td>\n",
       "      <td>...</td>\n",
       "      <td>...</td>\n",
       "    </tr>\n",
       "    <tr>\n",
       "      <th>91</th>\n",
       "      <td>44</td>\n",
       "      <td>SAO MIGUEL</td>\n",
       "      <td>23</td>\n",
       "      <td>JDH</td>\n",
       "      <td>JARDIM HELENA</td>\n",
       "      <td>POLYGON ((352915.621 7402621.049, 352944.248 7...</td>\n",
       "    </tr>\n",
       "    <tr>\n",
       "      <th>92</th>\n",
       "      <td>24</td>\n",
       "      <td>ITAQUERA</td>\n",
       "      <td>27</td>\n",
       "      <td>CLD</td>\n",
       "      <td>CIDADE LIDER</td>\n",
       "      <td>POLYGON ((345181.289 7394204.666, 345180.470 7...</td>\n",
       "    </tr>\n",
       "    <tr>\n",
       "      <th>93</th>\n",
       "      <td>57</td>\n",
       "      <td>ITAQUERA</td>\n",
       "      <td>27</td>\n",
       "      <td>PQC</td>\n",
       "      <td>PARQUE DO CARMO</td>\n",
       "      <td>POLYGON ((352597.619 7390119.444, 352588.233 7...</td>\n",
       "    </tr>\n",
       "    <tr>\n",
       "      <th>94</th>\n",
       "      <td>47</td>\n",
       "      <td>ITAQUERA</td>\n",
       "      <td>27</td>\n",
       "      <td>JBO</td>\n",
       "      <td>JOSE BONIFACIO</td>\n",
       "      <td>POLYGON ((354091.203 7396702.971, 354091.662 7...</td>\n",
       "    </tr>\n",
       "    <tr>\n",
       "      <th>95</th>\n",
       "      <td>37</td>\n",
       "      <td>ITAQUERA</td>\n",
       "      <td>27</td>\n",
       "      <td>ITQ</td>\n",
       "      <td>ITAQUERA</td>\n",
       "      <td>POLYGON ((353774.566 7397490.309, 353781.566 7...</td>\n",
       "    </tr>\n",
       "  </tbody>\n",
       "</table>\n",
       "<p>96 rows × 6 columns</p>\n",
       "</div>"
      ],
      "text/plain": [
       "   ds_codigo             ds_subpref ds_cd_sub ds_sigla          ds_nome  \\\n",
       "0         63       PIRITUBA-JARAGUA        02      PIR         PIRITUBA   \n",
       "1         95       PIRITUBA-JARAGUA        02      SDO     SAO DOMINGOS   \n",
       "2         42       PIRITUBA-JARAGUA        02      JAR          JARAGUA   \n",
       "3         11  FREGUESIA-BRASILANDIA        03      BRL      BRASILANDIA   \n",
       "4         29  FREGUESIA-BRASILANDIA        03      FRE   FREGUESIA DO O   \n",
       "..       ...                    ...       ...      ...              ...   \n",
       "91        44             SAO MIGUEL        23      JDH    JARDIM HELENA   \n",
       "92        24               ITAQUERA        27      CLD     CIDADE LIDER   \n",
       "93        57               ITAQUERA        27      PQC  PARQUE DO CARMO   \n",
       "94        47               ITAQUERA        27      JBO   JOSE BONIFACIO   \n",
       "95        37               ITAQUERA        27      ITQ         ITAQUERA   \n",
       "\n",
       "                                             geometry  \n",
       "0   POLYGON ((325109.668 7405122.828, 325106.786 7...  \n",
       "1   POLYGON ((319854.036 7402894.086, 319864.990 7...  \n",
       "2   POLYGON ((319172.403 7405179.204, 319174.204 7...  \n",
       "3   POLYGON ((324895.091 7404257.969, 324893.588 7...  \n",
       "4   POLYGON ((327469.803 7399113.522, 327449.180 7...  \n",
       "..                                                ...  \n",
       "91  POLYGON ((352915.621 7402621.049, 352944.248 7...  \n",
       "92  POLYGON ((345181.289 7394204.666, 345180.470 7...  \n",
       "93  POLYGON ((352597.619 7390119.444, 352588.233 7...  \n",
       "94  POLYGON ((354091.203 7396702.971, 354091.662 7...  \n",
       "95  POLYGON ((353774.566 7397490.309, 353781.566 7...  \n",
       "\n",
       "[96 rows x 6 columns]"
      ]
     },
     "execution_count": 54,
     "metadata": {},
     "output_type": "execute_result"
    }
   ],
   "source": [
    "distritos"
   ]
  },
  {
   "cell_type": "code",
   "execution_count": 60,
   "metadata": {},
   "outputs": [
    {
     "name": "stdout",
     "output_type": "stream",
     "text": [
      "2346-351 / 3441-342 / 3426-331 / 2443-263 / \n",
      "\n",
      "\n",
      "\n",
      "2443-432 / \n",
      "3336-453 / \n",
      "2346-354 / \n",
      "4436-262 / \n",
      "3443-462 / \n",
      "3431-451 / \n",
      "2441-451 / \n",
      "3441-344 / \n",
      "3426-313 / \n",
      "3443-464 / \n",
      "3445-232 / \n",
      "3426-362 / \n",
      "2446-111 / \n",
      "4436-134 / \n",
      "4436-252 / \n",
      "3426-364 / \n",
      "3442-131 / \n",
      "3441-211 / \n",
      "4436-133 / \n",
      "3441-134 / \n",
      "3432-364 / \n",
      "3432-354 / \n",
      "3432-343 / \n",
      "3431-454 / \n",
      "2446-414 / \n",
      "3444-111 / \n",
      "4445-342 / \n",
      "3441-133 / \n",
      "2442-234 / \n",
      "2442-233 / \n",
      "4436-241 / \n",
      "2442-223 / \n",
      "3434-232 / \n",
      "2442-242 / \n",
      "3433-232 / \n",
      "2446-454 / \n",
      "3441-154 / \n",
      "3433-231 / \n",
      "2443-222 / \n",
      "4436-141 / \n",
      "2442-243 / \n",
      "3441-321 / \n",
      "3431-411 / \n",
      "3444-113 / \n",
      "2442-331 / \n",
      "2446-453 / \n",
      "4321-121 / \n",
      "3434-224 / \n",
      "3446-251 / \n",
      "2322-221 / \n",
      "3434-223 / \n",
      "4321-123 / \n",
      "2446-162 / \n",
      "3434-214 / \n",
      "2446-152 / \n",
      "4312-433 / \n",
      "3434-213 / \n",
      "2446-142 / \n",
      "2443-252 / \n",
      "2324-222 / \n",
      "4436-253 / \n",
      "2324-224 / \n",
      "2322-223 / \n",
      "4321-151 / \n",
      "4314-252 / \n",
      "4312-452 / \n",
      "4435-264 / \n",
      "2324-253 / \n",
      "2324-343 / \n",
      "4325-113 / \n",
      "4435-263 / \n",
      "2326-254 / \n",
      "2326-424 / \n",
      "2326-323 / \n",
      "4316-422 / \n",
      "2324-244 / \n",
      "4314-434 / \n",
      "2326-314 / \n",
      "2326-313 / \n",
      "3326-361 / \n",
      "2326-451 / \n",
      "3326-453 / \n",
      "4435-254 / \n",
      "2324-334 / \n",
      "4316-421 / \n",
      "2446-243 / \n",
      "2446-153 / \n",
      "2342-134 / \n",
      "4332-162 / \n",
      "4332-211 / \n",
      "2324-333 / \n",
      "2324-352 / \n",
      "3325-422 / \n",
      "2342-353 / \n",
      "3341-251 / \n",
      "3343-111 / \n",
      "2344-121 / \n",
      "4332-163 / \n",
      "4331-121 / \n",
      "2344-142 / \n",
      "2344-144 / \n",
      "2326-412 / \n",
      "3326-323 / \n",
      "3334-432 / \n",
      "2344-312 / \n",
      "3325-434 / \n",
      "2344-314 / \n",
      "4331-243 / \n",
      "3325-424 / \n",
      "3345-121 / \n",
      "4331-111 / \n",
      "2346-121 / \n",
      "2344-342 / \n",
      "3336-421 / \n",
      "3343-353 / \n",
      "3336-412 / \n",
      "3342-222 / \n",
      "4331-164 / \n",
      "2342-211 / \n",
      "4332-213 / \n",
      "3341-253 / \n",
      "2342-154 / \n",
      "4332-322 / \n",
      "4332-321 / \n",
      "4331-431 / \n",
      "3341-421 / \n",
      "3341-413 / \n",
      "3341-361 / \n",
      "3341-353 / \n",
      "3341-344 / \n"
     ]
    }
   ],
   "source": [
    "for id, dist in distritos.iterrows():\n",
    "\n",
    "    # scms = gdf_scms[gdf_scms.intersects(dist.geometry)]['qo2010_cod'].to_list()\n",
    "    scms = gdf_scms['qo2010_cod'].to_list()\n",
    "    # [faixas(scm) for scm in scms]\n",
    "    with mp.Pool(processes=n_cpu) as p:\n",
    "        p.map(faixas, scms)"
   ]
  },
  {
   "cell_type": "code",
   "execution_count": 62,
   "metadata": {},
   "outputs": [
    {
     "data": {
      "text/plain": [
       "Index(['qo2010_cod', 'geometry'], dtype='object')"
      ]
     },
     "execution_count": 62,
     "metadata": {},
     "output_type": "execute_result"
    }
   ],
   "source": [
    "gdf_scms.columns"
   ]
  },
  {
   "cell_type": "code",
   "execution_count": null,
   "metadata": {},
   "outputs": [],
   "source": []
  }
 ],
 "metadata": {
  "interpreter": {
   "hash": "9cedc55b3cbf3c6d99ff990673a8ddd4523edd6f7760ad30a6f7807a45845135"
  },
  "kernelspec": {
   "display_name": "Python 3.8.11 64-bit ('geo': conda)",
   "language": "python",
   "name": "python3"
  },
  "language_info": {
   "codemirror_mode": {
    "name": "ipython",
    "version": 3
   },
   "file_extension": ".py",
   "mimetype": "text/x-python",
   "name": "python",
   "nbconvert_exporter": "python",
   "pygments_lexer": "ipython3",
   "version": "3.8.12"
  },
  "orig_nbformat": 4
 },
 "nbformat": 4,
 "nbformat_minor": 2
}
