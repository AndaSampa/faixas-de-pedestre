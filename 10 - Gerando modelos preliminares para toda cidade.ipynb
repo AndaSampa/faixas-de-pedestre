{
 "cells": [
  {
   "cell_type": "code",
   "execution_count": 13,
   "metadata": {},
   "outputs": [],
   "source": [
    "import geopandas as gpd\n",
    "import pandas as pd\n",
    "import glob\n",
    "from shapely.geometry import MultiPoint, MultiLineString, LineString, Point\n",
    "from shapely.ops import split, unary_union, snap, linemerge"
   ]
  },
  {
   "cell_type": "code",
   "execution_count": 3,
   "metadata": {},
   "outputs": [],
   "source": [
    "distritos = gpd.read_file(f'downloads/SIRGAS_GPKG_distrito.gpkg')"
   ]
  },
  {
   "cell_type": "code",
   "execution_count": 16,
   "metadata": {},
   "outputs": [
    {
     "name": "stdout",
     "output_type": "stream",
     "text": [
      "63 - PIRITUBA\n"
     ]
    },
    {
     "name": "stderr",
     "output_type": "stream",
     "text": [
      "/home/feromes/miniconda3/envs/geo/lib/python3.8/site-packages/geopandas/io/file.py:362: FutureWarning: pandas.Int64Index is deprecated and will be removed from pandas in a future version. Use pandas.Index with the appropriate dtype instead.\n",
      "  pd.Int64Index,\n",
      "/home/feromes/miniconda3/envs/geo/lib/python3.8/site-packages/geopandas/io/file.py:362: FutureWarning: pandas.Int64Index is deprecated and will be removed from pandas in a future version. Use pandas.Index with the appropriate dtype instead.\n",
      "  pd.Int64Index,\n",
      "/home/feromes/miniconda3/envs/geo/lib/python3.8/site-packages/geopandas/io/file.py:362: FutureWarning: pandas.Int64Index is deprecated and will be removed from pandas in a future version. Use pandas.Index with the appropriate dtype instead.\n",
      "  pd.Int64Index,\n",
      "/home/feromes/miniconda3/envs/geo/lib/python3.8/site-packages/geopandas/io/file.py:362: FutureWarning: pandas.Int64Index is deprecated and will be removed from pandas in a future version. Use pandas.Index with the appropriate dtype instead.\n",
      "  pd.Int64Index,\n",
      "/home/feromes/miniconda3/envs/geo/lib/python3.8/site-packages/geopandas/io/file.py:362: FutureWarning: pandas.Int64Index is deprecated and will be removed from pandas in a future version. Use pandas.Index with the appropriate dtype instead.\n",
      "  pd.Int64Index,\n"
     ]
    }
   ],
   "source": [
    "for i, d in distritos.iterrows():\n",
    "    folder = f'{d.ds_codigo} - {d.ds_nome}'\n",
    "    print(folder)\n",
    "    \n",
    "    faixas_poly = glob.glob(f'resultados/vetor/{folder}/faixas-poly-*.gpkg')\n",
    "    gdf_faixas_poly = gpd.GeoDataFrame(pd.concat([gpd.read_file(f) for f in faixas_poly]))\n",
    "    gdf_faixas_poly = gdf_faixas_poly.set_crs(epsg=31983)\n",
    "\n",
    "    linhas_de_travessia = glob.glob(f'resultados/vetor/{folder}/linhas-de-travessia-*.gpkg')\n",
    "    gdf_linhas_de_travessia = gpd.GeoDataFrame(pd.concat([gpd.read_file(f) for f in linhas_de_travessia]))\n",
    "    gdf_linhas_de_travessia = gdf_linhas_de_travessia.set_crs(epsg=31983)\n",
    "\n",
    "    gdf_rotas_mediais = gpd.read_file(f'../rotas-em-calcadas/resultados/eixos_mediais/{d.ds_codigo}-eixos-mediais-{d.ds_nome}.gpkg')\n",
    "    gdf_calcadas = gpd.read_file(f'../rotas-em-calcadas/resultados/calcadas/{d.ds_codigo}-calcadas-{d.ds_nome}.gpkg')\n",
    "\n",
    "    rotas_caminhaveis = gdf_linhas_de_travessia.unary_union.union(gdf_rotas_mediais.unary_union)\n",
    "    geometrias = [i for i in linemerge(rotas_caminhaveis)]\n",
    "\n",
    "    gdf_rotas_caminhaveis = gpd.GeoDataFrame(geometry=geometrias).set_crs(epsg=31983)\n",
    "    gdf_rotas_caminhaveis.to_file(f'resultados/preliminar/rede-rotas-preliminar-{d.ds_codigo}-{d.ds_nome}.gpkg', \n",
    "    driver='GPKG', layer='rede_caminhavel')\n",
    "    gdf_faixas_poly.to_file(f'resultados/preliminar/rede-rotas-preliminar-{d.ds_codigo}-{d.ds_nome}.gpkg', \n",
    "    driver='GPKG', layer='faixas_poly')\n",
    "    gdf_linhas_de_travessia.to_file(f'resultados/preliminar/rede-rotas-preliminar-{d.ds_codigo}-{d.ds_nome}.gpkg', \n",
    "    driver='GPKG', layer='linhas_de_travessia')\n",
    "    gdf_rotas_mediais.to_file(f'resultados/preliminar/rede-rotas-preliminar-{d.ds_codigo}-{d.ds_nome}.gpkg', \n",
    "    driver='GPKG', layer='rotas_mediais')\n",
    "    gdf_calcadas.to_file(f'resultados/preliminar/rede-rotas-preliminar-{d.ds_codigo}-{d.ds_nome}.gpkg', \n",
    "    driver='GPKG', layer='calcadas')\n",
    "    # [print(g.crs) for g in [gdf_faixas_poly, gdf_linhas_de_travessia, gdf_rotas_mediais, gdf_calcadas]]\n",
    "\n",
    "    break"
   ]
  },
  {
   "cell_type": "code",
   "execution_count": null,
   "metadata": {},
   "outputs": [],
   "source": []
  }
 ],
 "metadata": {
  "interpreter": {
   "hash": "9cedc55b3cbf3c6d99ff990673a8ddd4523edd6f7760ad30a6f7807a45845135"
  },
  "kernelspec": {
   "display_name": "Python 3.8.12 ('geo')",
   "language": "python",
   "name": "python3"
  },
  "language_info": {
   "codemirror_mode": {
    "name": "ipython",
    "version": 3
   },
   "file_extension": ".py",
   "mimetype": "text/x-python",
   "name": "python",
   "nbconvert_exporter": "python",
   "pygments_lexer": "ipython3",
   "version": "3.8.12"
  },
  "orig_nbformat": 4
 },
 "nbformat": 4,
 "nbformat_minor": 2
}
