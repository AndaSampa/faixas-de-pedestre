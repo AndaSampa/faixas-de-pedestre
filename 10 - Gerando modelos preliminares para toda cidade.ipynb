{
 "cells": [
  {
   "cell_type": "code",
   "execution_count": 35,
   "metadata": {},
   "outputs": [],
   "source": [
    "import geopandas as gpd\n",
    "import pandas as pd\n",
    "import glob\n",
    "from shapely.geometry import MultiPoint, MultiLineString, LineString, Point\n",
    "from shapely.ops import split, unary_union, snap, linemerge\n",
    "from IPython.display import clear_output, display\n",
    "import numpy as np\n",
    "import pygeos as pg"
   ]
  },
  {
   "cell_type": "code",
   "execution_count": 3,
   "metadata": {},
   "outputs": [],
   "source": [
    "distritos = gpd.read_file(f'downloads/SIRGAS_GPKG_distrito.gpkg')"
   ]
  },
  {
   "cell_type": "code",
   "execution_count": 51,
   "metadata": {},
   "outputs": [],
   "source": [
    "# distritos[distritos.ds_codigo == '22']\n",
    "## TODO\n",
    "# Distritos 22 e 52 (Cid. Ademar e Marsilac) não processaram, verificar!"
   ]
  },
  {
   "cell_type": "code",
   "execution_count": 47,
   "metadata": {},
   "outputs": [
    {
     "name": "stdout",
     "output_type": "stream",
     "text": [
      "52 - MARSILAC\n"
     ]
    }
   ],
   "source": [
    "for i, d in distritos.iterrows():\n",
    "\n",
    "    arquivo_resultante = f'resultados/preliminar/rede-rotas-preliminar-{d.ds_codigo}-{d.ds_nome}.gpkg'\n",
    "\n",
    "    if not glob.glob(arquivo_resultante):\n",
    "        folder = f'{d.ds_codigo} - {d.ds_nome}'\n",
    "        clear_output(wait=True)\n",
    "        print(folder)\n",
    "\n",
    "        faixas_poly = glob.glob(f'resultados/vetor/{folder}/faixas-poly-*.gpkg')\n",
    "        if not len(faixas_poly): break\n",
    "        gdf_faixas_poly = gpd.GeoDataFrame(pd.concat([gpd.read_file(f) for f in faixas_poly]))\n",
    "        gdf_faixas_poly = gdf_faixas_poly.set_crs(epsg=31983)\n",
    "\n",
    "        linhas_de_travessia = glob.glob(f'resultados/vetor/{folder}/linhas-de-travessia-*.gpkg')\n",
    "        gdf_linhas_de_travessia = gpd.GeoDataFrame(pd.concat([gpd.read_file(f) for f in linhas_de_travessia]))\n",
    "        gdf_linhas_de_travessia = gdf_linhas_de_travessia.set_crs(epsg=31983)\n",
    "\n",
    "        gdf_rotas_mediais = gpd.read_file(f'../rotas-em-calcadas/resultados/eixos_mediais/{d.ds_codigo}-eixos-mediais-{d.ds_nome}.gpkg')\n",
    "        gdf_calcadas = gpd.read_file(f'../rotas-em-calcadas/resultados/calcadas/{d.ds_codigo}-calcadas-{d.ds_nome}.gpkg')\n",
    "\n",
    "        # define a function that rounds the coordinates of every geometry in the array\n",
    "        round = np.vectorize(lambda geom: pg.apply(geom, lambda g: g.round(3)))\n",
    "        gdf_linhas_de_travessia.geometry = round(gdf_linhas_de_travessia.geometry.values.data)\n",
    "        gdf_rotas_mediais.geometry = round(gdf_rotas_mediais.geometry.values.data)\n",
    "\n",
    "        rotas_caminhaveis = gdf_linhas_de_travessia.unary_union.union(gdf_rotas_mediais.unary_union)\n",
    "        geometrias = [i for i in linemerge(rotas_caminhaveis)]\n",
    "\n",
    "        gdf_rotas_caminhaveis = gpd.GeoDataFrame(geometry=geometrias).set_crs(epsg=31983)\n",
    "        gdf_rotas_caminhaveis.to_file(f'resultados/preliminar/rede-rotas-preliminar-{d.ds_codigo}-{d.ds_nome}.gpkg', \n",
    "        driver='GPKG', layer='rede_caminhavel')\n",
    "        gdf_faixas_poly.to_file(f'resultados/preliminar/rede-rotas-preliminar-{d.ds_codigo}-{d.ds_nome}.gpkg', \n",
    "        driver='GPKG', layer='faixas_poly')\n",
    "        gdf_linhas_de_travessia.to_file(f'resultados/preliminar/rede-rotas-preliminar-{d.ds_codigo}-{d.ds_nome}.gpkg', \n",
    "        driver='GPKG', layer='linhas_de_travessia')\n",
    "        gdf_rotas_mediais.to_file(f'resultados/preliminar/rede-rotas-preliminar-{d.ds_codigo}-{d.ds_nome}.gpkg', \n",
    "        driver='GPKG', layer='rotas_mediais')\n",
    "        gdf_calcadas.to_file(f'resultados/preliminar/rede-rotas-preliminar-{d.ds_codigo}-{d.ds_nome}.gpkg', \n",
    "        driver='GPKG', layer='calcadas')\n",
    "\n"
   ]
  },
  {
   "cell_type": "code",
   "execution_count": null,
   "metadata": {},
   "outputs": [],
   "source": []
  }
 ],
 "metadata": {
  "interpreter": {
   "hash": "9cedc55b3cbf3c6d99ff990673a8ddd4523edd6f7760ad30a6f7807a45845135"
  },
  "kernelspec": {
   "display_name": "Python 3.8.12 ('geo')",
   "language": "python",
   "name": "python3"
  },
  "language_info": {
   "codemirror_mode": {
    "name": "ipython",
    "version": 3
   },
   "file_extension": ".py",
   "mimetype": "text/x-python",
   "name": "python",
   "nbconvert_exporter": "python",
   "pygments_lexer": "ipython3",
   "version": "3.8.12"
  },
  "orig_nbformat": 4
 },
 "nbformat": 4,
 "nbformat_minor": 2
}
