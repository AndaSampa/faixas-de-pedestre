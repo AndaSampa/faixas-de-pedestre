{
 "cells": [
  {
   "cell_type": "code",
   "execution_count": 216,
   "metadata": {},
   "outputs": [],
   "source": [
    "import geopandas as gpd\n",
    "import numpy as np\n",
    "from shapely.geometry import Point\n",
    "import pandas as pd"
   ]
  },
  {
   "cell_type": "code",
   "execution_count": 68,
   "metadata": {},
   "outputs": [],
   "source": [
    "gdf_nbl = gpd.read_file('zip://downloads/SIRGAS_SHP_logradouronbl.zip!SIRGAS_SHP_logradouronbl')\n",
    "gdf_classificacao_viaria = gpd.read_file('zip://downloads/SIRGAS_SHP_classeviariacet.zip!SIRGAS_SHP_classeviariacet')\n",
    "gdf_distritos = gpd.read_file('downloads/SIRGAS_GPKG_distrito.gpkg')\n",
    "gdf_quadras = gpd.read_file('downloads/SIRGAS_SHP_quadraMDSF.zip!SIRGAS_SHP_quadraMDSF')\n",
    "gdf_cruzamentos = gpd.read_file('../poligono-de-vias/resultado/pre-processamentos/00_cruzamentos_cidade_sao_paulo.gpkg')\n",
    "# gdf_poligono_de_vias = gpd.read_file('../poligono-de-vias/resultado/90_poligono_de_vias_de_vila_mariana.gpkg')"
   ]
  },
  {
   "cell_type": "code",
   "execution_count": 203,
   "metadata": {},
   "outputs": [],
   "source": [
    "buffer_cruzamento = 1.5\n",
    "distancia_ate_cruzamento = 8."
   ]
  },
  {
   "cell_type": "code",
   "execution_count": 200,
   "metadata": {},
   "outputs": [
    {
     "name": "stdout",
     "output_type": "stream",
     "text": [
      "VILA MARIANA\n"
     ]
    },
    {
     "name": "stderr",
     "output_type": "stream",
     "text": [
      "/home/feromes/miniconda3/envs/geo/lib/python3.8/site-packages/geopandas/geodataframe.py:1327: UserWarning: Boolean Series key will be reindexed to match DataFrame index.\n",
      "  result = super().__getitem__(key)\n"
     ]
    }
   ],
   "source": [
    "\n",
    "for i, dist in gdf_distritos[gdf_distritos.ds_codigo == '90'].iterrows():\n",
    "\n",
    "    print(dist.ds_nome)\n",
    "\n",
    "    nbl = gdf_nbl.clip(dist.geometry.buffer(20))\n",
    "    qvia = gdf_quadras.clip(dist.geometry.buffer(20))\n",
    "    cruza = gdf_cruzamentos.clip(dist.geometry.buffer(20))\n",
    "\n",
    "    # Exclui os cruzamentos que estão dentro das quadras viárias\n",
    "    cruza = cruza[~cruza.intersects(qvia.unary_union)]\n",
    "\n",
    "    # exclui linhas da NBL que intersectam quadas viárias\n",
    "    nbl = nbl[~nbl.intersects(qvia.unary_union)]\n",
    "\n",
    "    # gera um buffer para cada cruzamento\n",
    "    cruza.geometry = cruza.buffer(1.5)\n",
    "    \n",
    "    # relacionar cruzamentos com NBL e manter somente as relações > 2\n",
    "    cruza_nbl_group = cruza_nbl.reset_index()[['lg_seg_id', 'index']].groupby('index').agg('count')\n",
    "    cruza = cruza[cruza_nbl_group['lg_seg_id'] > 2]\n",
    "\n",
    "    # Verificar se ponto final e inicial são cruzamentos\n",
    "    nbl['ponto_inicial'] = [Point(g.coords[:][0]) for g in nbl.geometry]\n",
    "    nbl['ponto_final'] = [Point(g.coords[:][-1]) for g in nbl.geometry]\n",
    "    nbl['faixa_ponto_inicial'] = nbl.set_geometry('ponto_inicial').intersects(cruza.unary_union)\n",
    "    nbl['faixa_ponto_final'] = nbl.set_geometry('ponto_final').intersects(cruza.unary_union)\n",
    "\n",
    "    # Gerar um ponto de faixa afastado 'distancia_ate_cruzamento' metros das extremidades que se cruzam\n",
    "    pontos = []\n",
    "    pontos.append(nbl[(nbl.length > 3 * distancia_ate_cruzamento) & (nbl.faixa_ponto_inicial)].geometry.apply(lambda x: x.interpolate(distancia_ate_cruzamento)))\n",
    "    pontos.append(nbl[(nbl.length > 3 * distancia_ate_cruzamento) & (nbl.faixa_ponto_inicial)].geometry.apply(lambda x: x.interpolate(-distancia_ate_cruzamento)))\n",
    "    gdf_faixas_ideiais = gpd.GeoDataFrame(geometry=pd.concat(pontos))\n",
    "\n",
    "    ## Alguns problemas derivados do polígono de vias estar em uma versão anterior à atualização de quadras\n",
    "\n",
    "    ## TODO\n",
    "    # Remover as faixas de VTR\n",
    "\n",
    "\n"
   ]
  },
  {
   "cell_type": "code",
   "execution_count": null,
   "metadata": {},
   "outputs": [],
   "source": []
  }
 ],
 "metadata": {
  "interpreter": {
   "hash": "9cedc55b3cbf3c6d99ff990673a8ddd4523edd6f7760ad30a6f7807a45845135"
  },
  "kernelspec": {
   "display_name": "Python 3.8.12 ('geo')",
   "language": "python",
   "name": "python3"
  },
  "language_info": {
   "codemirror_mode": {
    "name": "ipython",
    "version": 3
   },
   "file_extension": ".py",
   "mimetype": "text/x-python",
   "name": "python",
   "nbconvert_exporter": "python",
   "pygments_lexer": "ipython3",
   "version": "3.8.12"
  },
  "orig_nbformat": 4
 },
 "nbformat": 4,
 "nbformat_minor": 2
}
